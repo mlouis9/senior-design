{
 "cells": [
  {
   "cell_type": "code",
   "execution_count": null,
   "metadata": {},
   "outputs": [],
   "source": [
    "import thermoTools\n",
    "import thermoToolsAdditions as tta\n",
    "import json\n",
    "from pathlib import Path\n",
    "import matplotlib.pyplot as plt\n",
    "import numpy as np\n",
    "from operator import itemgetter\n",
    "import os"
   ]
  },
  {
   "cell_type": "markdown",
   "metadata": {},
   "source": [
    "### Example 1: Standalone Thermochimica\n",
    "This is an example of running a standalone thermochimica calculation for a series of temperatures"
   ]
  },
  {
   "cell_type": "code",
   "execution_count": 34,
   "metadata": {},
   "outputs": [
    {
     "name": "stdout",
     "output_type": "stream",
     "text": [
      "[0.8, 1.3, 0.1, 0.1]\n"
     ]
    }
   ],
   "source": [
    "dataFile = Path(\"data/MSTDB-TC_V3.0_Chlorides_No_Functions_8-2.dat\")\n",
    "scriptName = \"test\"\n",
    "elements = ['Na', 'Cl', 'Mg', 'Pu']\n",
    "\n",
    "component_fractions = {'Na Cl': 0.8, 'Mg Cl_2': 0.1, 'Pu Cl_3': 0.1}\n",
    "\n",
    "tstart = 1500\n",
    "tend = 2000\n",
    "ntstep = 20\n",
    "pstart = 1\n",
    "pend = 1\n",
    "npstep = 1\n",
    "masses = tta.component_fractions_to_element_fractions(component_fractions, elements)\n",
    "\n",
    "print(masses)\n",
    "\n",
    "# Write an input script\n",
    "thermoTools.WriteInputScript(scriptName, str(dataFile), elements, tstart, tend, ntstep, pstart, pend, npstep, masses, heatCapacity=True)\n",
    "\n",
    "# Run an input script\n",
    "thermochimicaPath = Path(\"/home/mlouis9/thermochimica\")\n",
    "outputPath = Path(\"../../PythonProjects/fuelOptimization/outputs\")\n",
    "outputName = \"output.json\"\n",
    "\n",
    "thermoTools.RunInputScript(scriptName, jsonName=str(outputPath / outputName), thermochimica_path=str(thermochimicaPath), noOutput=True)"
   ]
  },
  {
   "cell_type": "markdown",
   "metadata": {},
   "source": [
    "### Example 2: Solubility Calculation\n",
    "This is an example solubility calculation for $\\text{PuCl}_3$ in the eutectic salt $x(\\text{LiCl}):x(\\text{KCl}) = (0.586:0.414)$ "
   ]
  },
  {
   "cell_type": "code",
   "execution_count": 39,
   "metadata": {},
   "outputs": [],
   "source": [
    "# File IO input parameters\n",
    "thermochimica_path = Path(\"/home/mlouis9/thermochimica\")\n",
    "output_path = Path(\"../../PythonProjects/fuelOptimization/outputs\")\n",
    "output_name = \"output.json\"\n",
    "data_file = Path(\"data/MSTDB-TC_V3.0_Chlorides_No_Functions_8-2.dat\")\n",
    "script_name = \"test\"\n",
    "\n",
    "# Physical parameters\n",
    "temp = 723\n",
    "press = 1\n",
    "unit_ratio_of_other_components = {'Li Cl': 0.586, 'K Cl': 0.414}\n",
    "component_to_vary = 'Pu Cl_3'\n",
    "compstart = 0.01\n",
    "compstop = 0.4\n",
    "n_comp_step = 20\n",
    "calc = tta.solubility_calculation(temp, press, unit_ratio_of_other_components, component_to_vary, n_comp_step, \\\n",
    "                       thermochimica_path, output_path, output_name, data_file, compstart=compstart, compstop=compstop)"
   ]
  },
  {
   "cell_type": "code",
   "execution_count": 36,
   "metadata": {},
   "outputs": [
    {
     "data": {
      "text/plain": [
       "1"
      ]
     },
     "execution_count": 36,
     "metadata": {},
     "output_type": "execute_result"
    }
   ],
   "source": [
    "# calc.mole_fraction_element_by_phase['Pu']\n",
    "list(calc.output.values())[0]['# pure condensed phases']"
   ]
  },
  {
   "cell_type": "code",
   "execution_count": 37,
   "metadata": {},
   "outputs": [
    {
     "data": {
      "text/plain": [
       "[[('MSCL', 2.9464429866271837), ('K3PuCl6_S1(s)', 0.0005121166296182655)],\n",
       " [('MSCL', 2.6956923610962105), ('K3PuCl6_S1(s)', 0.021975139960877986)],\n",
       " [('MSCL', 2.4595392096320094), ('K3PuCl6_S1(s)', 0.041578934878305954)],\n",
       " [('MSCL', 1.8667239265460243),\n",
       "  ('FM3M', 0.1114180582706351),\n",
       "  ('K3PuCl6_S1(s)', 0.06386755993561795)],\n",
       " [('FM3M', 0.19541079143371445),\n",
       "  ('LiCl_FM3M_No.225(s)', 0.5282734190815576),\n",
       "  ('K2PuCl5_S1(s)', 0.09210526315641229)],\n",
       " [('FM3M', 0.5301800809126588),\n",
       "  ('KCl_FM3M_No.225(s)', 0.1319251822452358),\n",
       "  ('K2PuCl5_S1(s)', 0.11263157894736847)],\n",
       " [('FM3M', 0.509104634745515),\n",
       "  ('Pu_FCC_A1(s4)', 1.2439677358375583e-15),\n",
       "  ('K2PuCl5_S1(s)', 0.04173621369287485),\n",
       "  ('K3PuCl6_S1(s)', 0.09142168104396603)],\n",
       " [('FM3M', 0.49704933472166274),\n",
       "  ('K2PuCl5_S1(s)', 0.1117861768269219),\n",
       "  ('K3PuCl6_S1(s)', 0.041898033699393)],\n",
       " [('FM3M', 0.4839738683160135),\n",
       "  ('Pu_FCC_A1(s4)', 3.6710377427976033e-16),\n",
       "  ('PuCl3_P63/M_No.176(s)', 0.0033027236316905285),\n",
       "  ('K2PuCl5_S1(s)', 0.17090780268409858)],\n",
       " [('MSCL', 0.6484413603546677),\n",
       "  ('FM3M', 0.35019653225468417),\n",
       "  ('K2PuCl5_S1(s)', 0.11965665030146108)],\n",
       " [('MSCL', 1.2178305549538764),\n",
       "  ('FM3M', 0.23140927128345745),\n",
       "  ('K2PuCl5_S1(s)', 0.07406686634547983)],\n",
       " [('MSCL', 1.791435198786598),\n",
       "  ('FM3M', 0.11086180511779505),\n",
       "  ('K2PuCl5_S1(s)', 0.028638629039271578)],\n",
       " [('gas_ideal', 1.2811276341788222e-12),\n",
       "  ('FM3M', 0.4358567371835125),\n",
       "  ('PuCl3_P63/M_No.176(s)', 0.10240205280228314),\n",
       "  ('K2PuCl5_S1(s)', 0.15391373667140112)],\n",
       " [('FM3M', 0.4238265315171931),\n",
       "  ('PuCl3_P63/M_No.176(s)', 0.1271764236533334),\n",
       "  ('K2PuCl5_S1(s)', 0.14966568160982452)],\n",
       " [('FM3M', 0.4117966289648968),\n",
       "  ('PuCl3_P63/M_No.176(s)', 0.15195094606139586),\n",
       "  ('K2PuCl5_S1(s)', 0.14541747499123572)],\n",
       " [('MSCL', 2.0718942890016576)],\n",
       " [('MSCL', 2.021845124397216)],\n",
       " [('FM3M', 0.37570665668012093),\n",
       "  ('PuCl3_P63/M_No.176(s)', 0.22627438097164337),\n",
       "  ('K2PuCl5_S1(s)', 0.13267298744940925)],\n",
       " [('MSCL', 1.908387587684804), ('PuCl3_P63/M_No.176(s)', 0.0376310902375736)],\n",
       " [('FM3M', 0.3516466244686442),\n",
       "  ('PuCl3_P63/M_No.176(s)', 0.27582331223432455),\n",
       "  ('K2PuCl5_S1(s)', 0.12417668776567511)]]"
      ]
     },
     "execution_count": 37,
     "metadata": {},
     "output_type": "execute_result"
    }
   ],
   "source": [
    "calc.stable_phases"
   ]
  },
  {
   "cell_type": "code",
   "execution_count": 38,
   "metadata": {},
   "outputs": [
    {
     "data": {
      "text/plain": [
       "{'Pu': {'moles': 0.09210526315789473, 'element potential': -900830.5957855599},\n",
       " 'K': {'moles': 0.3758684210526316, 'element potential': -422505.0752027534},\n",
       " 'Cl': {'moles': 1.1842105263157894, 'element potential': -85408.22299119676},\n",
       " 'Li': {'moles': 0.5320263157894737, 'element potential': -376772.7519562255}}"
      ]
     },
     "execution_count": 38,
     "metadata": {},
     "output_type": "execute_result"
    }
   ],
   "source": [
    "calc.output['5']['elements']"
   ]
  },
  {
   "cell_type": "code",
   "execution_count": null,
   "metadata": {},
   "outputs": [],
   "source": []
  }
 ],
 "metadata": {
  "kernelspec": {
   "display_name": "base",
   "language": "python",
   "name": "python3"
  },
  "language_info": {
   "codemirror_mode": {
    "name": "ipython",
    "version": 3
   },
   "file_extension": ".py",
   "mimetype": "text/x-python",
   "name": "python",
   "nbconvert_exporter": "python",
   "pygments_lexer": "ipython3",
   "version": "3.11.6"
  }
 },
 "nbformat": 4,
 "nbformat_minor": 2
}

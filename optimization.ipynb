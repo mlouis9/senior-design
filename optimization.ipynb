{
 "cells": [
  {
   "cell_type": "code",
   "execution_count": 1,
   "metadata": {},
   "outputs": [],
   "source": [
    "import thermoTools\n",
    "import thermoToolsAdditions as tta\n",
    "import json\n",
    "from pathlib import Path\n",
    "import matplotlib.pyplot as plt\n",
    "import numpy as np\n",
    "from operator import itemgetter\n",
    "import os\n",
    "import copy"
   ]
  },
  {
   "cell_type": "markdown",
   "metadata": {},
   "source": [
    "<!-- <div hidden> -->\n",
    "$\\usepackage{biblatex}\n",
    "\\aaddbibresource{references.bib}$\n",
    "<!-- </div> -->"
   ]
  },
  {
   "cell_type": "markdown",
   "metadata": {},
   "source": [
    "### Example 1: Standalone Thermochimica\n",
    "This is an example of running a standalone thermochimica calculation for a series of temperatures"
   ]
  },
  {
   "cell_type": "code",
   "execution_count": 2,
   "metadata": {},
   "outputs": [
    {
     "name": "stdout",
     "output_type": "stream",
     "text": [
      "[0.8, 1.3, 0.1, 0.1]\n"
     ]
    }
   ],
   "source": [
    "dataFile = Path(\"data/MSTDB-TC_V3.0_Chlorides_No_Functions_8-2.dat\")\n",
    "scriptName = \"test\"\n",
    "elements = ['Na', 'Cl', 'Mg', 'Pu']\n",
    "\n",
    "component_fractions = {'Na Cl': 0.8, 'Mg Cl_2': 0.1, 'Pu Cl_3': 0.1}\n",
    "\n",
    "tstart = 1500\n",
    "tend = 2000\n",
    "ntstep = 20\n",
    "pstart = 1\n",
    "pend = 1\n",
    "npstep = 1\n",
    "masses = tta.component_fractions_to_element_fractions(component_fractions, elements)\n",
    "\n",
    "print(masses)\n",
    "\n",
    "# Write an input script\n",
    "thermoTools.WriteInputScript(scriptName, str(dataFile), elements, tstart, tend, ntstep, pstart, pend, npstep, masses, heatCapacity=True)\n",
    "\n",
    "# Run an input script\n",
    "thermochimicaPath = Path(\"/home/mlouis9/thermochimica\")\n",
    "outputPath = Path(\"../../PythonProjects/fuelOptimization/outputs\")\n",
    "outputName = \"output.json\"\n",
    "\n",
    "thermoTools.RunInputScript(scriptName, jsonName=str(outputPath / outputName), thermochimica_path=str(thermochimicaPath), noOutput=True)"
   ]
  },
  {
   "cell_type": "markdown",
   "metadata": {},
   "source": [
    "### Example 2: Solubility Calculation\n",
    "This is an example solubility calculation for $\\text{PuCl}_3$ in the eutectic salt $x(\\text{LiCl}):x(\\text{KCl}) = (0.586:0.414)$ "
   ]
  },
  {
   "cell_type": "code",
   "execution_count": 3,
   "metadata": {},
   "outputs": [],
   "source": [
    "# File IO input parameters\n",
    "thermochimica_path = Path(\"/home/mlouis9/thermochimica\")\n",
    "output_path = Path(\"../../PythonProjects/fuelOptimization/outputs\")\n",
    "output_name = \"output.json\"\n",
    "data_file = Path(\"data/MSTDB-TC_V3.0_Chlorides_No_Functions_8-2.dat\")\n",
    "script_name = \"test\"\n",
    "\n",
    "# Physical parameters\n",
    "temp = 723\n",
    "press = 1\n",
    "unit_ratio_of_other_components = {'Li Cl': 0.586, 'K Cl': 0.414}\n",
    "component_to_vary = 'Pu Cl_3'\n",
    "compstart = 0.01\n",
    "compstop = 0.4\n",
    "n_comp_step = 20\n",
    "calc = tta.solubility_calculation(temp, press, unit_ratio_of_other_components, component_to_vary, n_comp_step, \\\n",
    "                       thermochimica_path, output_path, output_name, data_file, compstart=compstart, compstop=compstop, fuzzy=True)"
   ]
  },
  {
   "cell_type": "code",
   "execution_count": 4,
   "metadata": {},
   "outputs": [
    {
     "data": {
      "text/plain": [
       "1"
      ]
     },
     "execution_count": 4,
     "metadata": {},
     "output_type": "execute_result"
    }
   ],
   "source": [
    "# calc.mole_fraction_element_by_phase['Pu']\n",
    "list(calc.output.values())[0]['# pure condensed phases']"
   ]
  },
  {
   "cell_type": "code",
   "execution_count": 5,
   "metadata": {},
   "outputs": [
    {
     "data": {
      "text/plain": [
       "[[('MSCL', 2.02), ('K3PuCl6_S1(s)', 0.00202)],\n",
       " [('MSCL', 2.061052631578947), ('K3PuCl6_S1(s)', 0.02249913156255506)],\n",
       " [('MSCL', 2.1021052631578945), ('K3PuCl6_S1(s)', 0.0421985374011967)],\n",
       " [('MSCL', 1.8642997732642308),\n",
       "  ('FM3M', 0.11185953651400367),\n",
       "  ('K3PuCl6_S1(s)', 0.06400232444862858)],\n",
       " [('MSCL', 1.081492945212058),\n",
       "  ('FM3M', 0.28245637018505065),\n",
       "  ('K3PuCl6_S1(s)', 0.08771001324492728)],\n",
       " [('MSCL', 0.29868616727570746),\n",
       "  ('FM3M', 0.4530532015091696),\n",
       "  ('K3PuCl6_S1(s)', 0.11141769648959488)],\n",
       " [('FM3M', 0.48364939303204035),\n",
       "  ('K2PuCl5_S1(s)', 0.04173620319142364),\n",
       "  ('K3PuCl6_S1(s)', 0.09142169154533476)],\n",
       " [('FM3M', 0.4970493234880382),\n",
       "  ('K2PuCl5_S1(s)', 0.11178616559330151),\n",
       "  ('K3PuCl6_S1(s)', 0.0418980449330143)],\n",
       " [('MSCL', 0.07781386107717402),\n",
       "  ('FM3M', 0.4694934700922297),\n",
       "  ('K2PuCl5_S1(s)', 0.16520260288931826)],\n",
       " [('MSCL', 0.6485434157840332),\n",
       "  ('FM3M', 0.3501553113438365),\n",
       "  ('K2PuCl5_S1(s)', 0.11965986546445742)],\n",
       " [('MSCL', 1.2192730053438372),\n",
       "  ('FM3M', 0.2308171383180665),\n",
       "  ('K2PuCl5_S1(s)', 0.07411712923691657)],\n",
       " [('MSCL', 1.7900025245501663),\n",
       "  ('FM3M', 0.11147899411810543),\n",
       "  ('K2PuCl5_S1(s)', 0.028574390589612142)],\n",
       " [('MSCL', 2.1717691981923806), ('FM3M', 0.02158108483252433)],\n",
       " [('MSCL', 2.1797298046942903)],\n",
       " [('MSCL', 2.124662797181004)],\n",
       " [('MSCL', 2.0718943083818893)],\n",
       " [('MSCL', 2.0218451227432044)],\n",
       " [('MSCL', 1.971538465897995),\n",
       "  ('PuCl3_P63/M_No.176(s)', 0.005832173188965762)],\n",
       " [('MSCL', 1.908410388999869), ('PuCl3_P63/M_No.176(s)', 0.0376651340383403)],\n",
       " [('MSCL', 1.8452823089069712),\n",
       "  ('PuCl3_P63/M_No.176(s)', 0.06949809352616362)]]"
      ]
     },
     "execution_count": 5,
     "metadata": {},
     "output_type": "execute_result"
    }
   ],
   "source": [
    "calc.stable_phases"
   ]
  },
  {
   "cell_type": "code",
   "execution_count": 6,
   "metadata": {},
   "outputs": [
    {
     "data": {
      "text/plain": [
       "{'Pu': {'moles': 0.4000000000000001, 'element potential': -50050.47773205744},\n",
       " 'K': {'moles': 0.24839999999999998, 'element potential': -190360.38572171322},\n",
       " 'Cl': {'moles': 1.8000000000000003, 'element potential': -349754.87584552314},\n",
       " 'Li': {'moles': 0.3516, 'element potential': -115381.02742892805}}"
      ]
     },
     "execution_count": 6,
     "metadata": {},
     "output_type": "execute_result"
    }
   ],
   "source": [
    "calc.output['20']['elements']"
   ]
  },
  {
   "cell_type": "markdown",
   "metadata": {},
   "source": [
    "### Example 3\n",
    "Calculate reference pseudo-binary phase diagrams for each of the constituient binary subsystems of the ternary chloride salt $\\text{LiCl-KCl-PuCl}_3$ these are to be compared with (zhou2017thermodynamic)"
   ]
  },
  {
   "cell_type": "code",
   "execution_count": 7,
   "metadata": {},
   "outputs": [
    {
     "name": "stdout",
     "output_type": "stream",
     "text": [
      "Thermochimica calculation initiated.\n",
      "Thermochimica calculation finished.\n"
     ]
    }
   ],
   "source": [
    "import pseudoBinaryPhaseDiagramFunctions as pbpd\n",
    "\n",
    "\n",
    "# File IO input parameters\n",
    "thermochimica_path = Path(\"/home/mlouis9/thermochimica\")\n",
    "output_path = Path(\"../../PythonProjects/fuelOptimization/outputs\")\n",
    "output_name = 'output.json'\n",
    "data_file = Path(\"data/MSTDB-TC_V3.0_Chlorides_No_Functions_8-2.dat\")\n",
    "input_file_name = \"runThermochimica.ti\"\n",
    "\n",
    "# Physical input parameters\n",
    "press = 1\n",
    "tunit = 'K'\n",
    "punit = 'atm'\n",
    "elements_used = ['Li', 'Cl', 'K']\n",
    "\n",
    "# Now get elemental compositions of endmembers\n",
    "left_endmember_composition = {'Li Cl': 1.0}\n",
    "right_endmember_composition = {'K Cl': 1.0}\n",
    "left_endmember_masses = tta.component_fractions_to_element_fractions(left_endmember_composition, elements_used)\n",
    "right_endmember_masses = tta.component_fractions_to_element_fractions(right_endmember_composition, elements_used)\n",
    "\n",
    "sum1 = sum(left_endmember_masses)\n",
    "sum2 = sum(right_endmember_masses)\n",
    "\n",
    "mass_labels = tta.get_mass_labels(left_endmember_masses, right_endmember_masses, elements_used)\n",
    "\n",
    "# Now normalize left and right endmember masses, NOTE this is REQUIRED for the plotting and postprocessing to behave\n",
    "left_endmember_masses = list( left_endmember_masses / sum1 )\n",
    "right_endmember_masses = list( right_endmember_masses / sum2 )\n",
    "\n",
    "plane = [left_endmember_masses, right_endmember_masses]\n",
    "\n",
    "munit = 'moles'\n",
    "\n",
    "if tunit == 'K':\n",
    "    tshift = 0\n",
    "elif tunit == 'C':\n",
    "    tshift = 273.15\n",
    "else:\n",
    "    assert(f\"Invalid temperature unit \\'{tunit}\\' provided\")\n",
    "\n",
    "xlo = 0\n",
    "xhi = 1\n",
    "nxstep = 50\n",
    "tlo = 500\n",
    "thi = 1200\n",
    "mint = tlo + tshift\n",
    "maxt = thi + tshift\n",
    "ntstep = 50\n",
    "\n",
    "calc = pbpd.diagram(data_file, active=True, interactivePlot=True, inputFileName='runThermochimica.ti', \\\n",
    "                    outputFileName=str(output_path / output_name), thermochimicaPath=thermochimica_path)\n",
    "\n",
    "calc.initRun(press, tunit, punit, plane, sum1, sum2, mint, maxt, elements_used, mass_labels, munit, tshift, fuzzy=True)\n",
    "calc.runCalc(xlo, xhi, nxstep, tlo, thi, ntstep)\n",
    "calc.processPhaseDiagramData()"
   ]
  },
  {
   "cell_type": "code",
   "execution_count": 8,
   "metadata": {},
   "outputs": [
    {
     "data": {
      "image/png": "[encoded data removed]",
      "text/plain": [
       "<Figure size 640x480 with 1 Axes>"
      ]
     },
     "metadata": {},
     "output_type": "display_data"
    }
   ],
   "source": [
    "calc.makePlot()"
   ]
  },
  {
   "cell_type": "code",
   "execution_count": null,
   "metadata": {},
   "outputs": [],
   "source": []
  }
 ],
 "metadata": {
  "kernelspec": {
   "display_name": "base",
   "language": "python",
   "name": "python3"
  },
  "language_info": {
   "codemirror_mode": {
    "name": "ipython",
    "version": 3
   },
   "file_extension": ".py",
   "mimetype": "text/x-python",
   "name": "python",
   "nbconvert_exporter": "python",
   "pygments_lexer": "ipython3",
   "version": "3.11.6"
  }
 },
 "nbformat": 4,
 "nbformat_minor": 2
}

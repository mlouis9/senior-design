{
 "cells": [
  {
   "cell_type": "code",
   "execution_count": 2,
   "metadata": {},
   "outputs": [],
   "source": [
    "import numpy as np\n",
    "from CoolProp.CoolProp import PropsSI\n",
    "import handcalcs.render\n",
    "from handcalcs.decorator import handcalc\n",
    "import pint\n",
    "import endf\n",
    "from numpy import pi\n",
    "from numpy import sqrt, log, exp, log10\n",
    "import os\n",
    "import matplotlib.pyplot as plt\n",
    "from scipy.optimize import fsolve\n",
    "import fluids\n",
    "\n",
    "ureg = pint.UnitRegistry(auto_reduce_dimensions=True)\n",
    "ureg.default_format = \"~P\"\n",
    "Q_ = ureg.Quantity\n",
    "ureg.define('USD = [currency] = $')"
   ]
  },
  {
   "cell_type": "markdown",
   "metadata": {},
   "source": [
    "# Calculating the Heat Flux\n",
    "The heat flux is used as a boundary condition in OpenFOAM, and can be calculated from the given pin geometry and the core power density"
   ]
  },
  {
   "cell_type": "code",
   "execution_count": 3,
   "metadata": {},
   "outputs": [
    {
     "data": {
      "text/latex": [
       "\n",
       "\\begin{align}\n",
       "d_{pin} &= 11.0\\ \\mathrm{mm} \\; \\;\\textrm{(Pincell diameter)}\n",
       " &h &= 3.0\\ \\mathrm{m} \\; \\;\\textrm{(Active core height)}\n",
       " &R_{pincell} &= 8.73\\ \\mathrm{mm} \\; \\;\\textrm{(Circumradius of hexagonal pincell)}\n",
       "\\\\[10pt]\n",
       " q''' &= 1\\times 10^{2}\\ \\frac{\\mathrm{kW}}{\\mathrm{l}} \\; \\;\\textrm{(Voulmetric power density)}\n",
       " &t_{clad} &= 0.6\\ \\mathrm{mm} \\; \\;\\textrm{(Clad thickness)}\n",
       "\\end{align}\n"
      ],
      "text/plain": [
       "<IPython.core.display.Latex object>"
      ]
     },
     "metadata": {},
     "output_type": "display_data"
    }
   ],
   "source": [
    "%%render\n",
    "# Parameters\n",
    "d_pin = 11.0*ureg('mm') # Pincell diameter\n",
    "h = 3.0*ureg('m') # Active core height\n",
    "R_pincell = (17.47/2)*ureg('mm') # Circumradius of hexagonal pincell\n",
    "q_prime_prime_prime = 100.0*ureg('kW/L') # Voulmetric power density\n",
    "t_clad = 0.6*ureg('mm') # Clad thickness"
   ]
  },
  {
   "cell_type": "code",
   "execution_count": 4,
   "metadata": {},
   "outputs": [
    {
     "data": {
      "text/latex": [
       "\n",
       "\\begin{align}\n",
       "r_{pincell} &= \\frac{ \\sqrt { 3 } }{ 2 } \\cdot R_{pincell}  = \\frac{ \\sqrt { 3 } }{ 2 } \\cdot 8.73\\ \\mathrm{mm} &= 7.56\\ \\mathrm{mm} \\; \\;\\textrm{(Pincell inradius - the lattice pitch)}\n",
       "\\\\[10pt]\n",
       "A_{fuel} &= \\pi \\cdot \\left( \\frac{ d_{pin} }{ 2 } - t_{clad} \\right) ^{ 2 }  = 3.142 \\cdot \\left( \\frac{ 11.0\\ \\mathrm{mm} }{ 2 } - 0.6\\ \\mathrm{mm} \\right) ^{ 2 } &= 75.4\\ \\mathrm{mm}^{2} \\; \\;\\textrm{(Fuel cross sectional area)}\n",
       "\\\\[10pt]\n",
       "A_{subchannel} &= 2 \\cdot \\sqrt { 3 } \\cdot \\left( r_{pincell} \\right) ^{ 2 } - \\pi \\cdot \\left( \\frac{ d_{pin} }{ 2 } \\right) ^{ 2 } \\\\&= 2 \\cdot \\sqrt { 3 } \\cdot \\left( 7.56\\ \\mathrm{mm} \\right) ^{ 2 } - 3.142 \\cdot \\left( \\frac{ 11.0\\ \\mathrm{mm} }{ 2 } \\right) ^{ 2 } \\\\&= 1.03\\times 10^{2}\\ \\mathrm{mm}^{2} \\; \\;\\textrm{(Coolant cross sectional area)}\\\\[10pt]\n",
       "\\\\[10pt]\n",
       "q &= A_{fuel} \\cdot h \\cdot q'''  = 75.4\\ \\mathrm{mm}^{2} \\cdot 3.0\\ \\mathrm{m} \\cdot 1\\times 10^{2}\\ \\frac{\\mathrm{kW}}{\\mathrm{l}} &= 22.6\\ \\mathrm{kW} \\; \\;\\textrm{(Power per rod)}\n",
       "\\\\[10pt]\n",
       "\\mathrm{SA}_{pin} &= 2 \\cdot \\pi \\cdot \\left( \\frac{ d_{pin} }{ 2 } \\right) \\cdot h  = 2 \\cdot 3.142 \\cdot \\left( \\frac{ 11.0\\ \\mathrm{mm} }{ 2 } \\right) \\cdot 3.0\\ \\mathrm{m} &= 0.104\\ \\mathrm{m}^{2} \\; \\;\\textrm{(Heated surface area of fuel pin)}\n",
       "\\\\[10pt]\n",
       "q'' &= \\left( \\frac{ q }{ \\mathrm{SA}_{pin} } \\right)  = \\left( \\frac{ 22.6\\ \\mathrm{kW} }{ 0.104\\ \\mathrm{m}^{2} } \\right) &= 2.18\\times 10^{5}\\ \\frac{\\mathrm{W}}{\\mathrm{m}^{2}}  \n",
       "\\end{align}\n"
      ],
      "text/plain": [
       "<IPython.core.display.Latex object>"
      ]
     },
     "metadata": {},
     "output_type": "display_data"
    }
   ],
   "source": [
    "%%render\n",
    "r_pincell = sqrt(3)/2*R_pincell # Pincell inradius - the lattice pitch\n",
    "A_fuel = pi*(d_pin/2 - t_clad)**2 # Fuel cross sectional area\n",
    "A_subchannel = 2*sqrt(3)*r_pincell**2 -  pi*(d_pin/2)**2 # Coolant cross sectional area\n",
    "q = A_fuel*h*q_prime_prime_prime # Power per rod\n",
    "SA_pin = 2*pi*(d_pin/2)*h # Heated surface area of fuel pin\n",
    "q_prime_prime = (q/SA_pin).to('W/m^2')"
   ]
  },
  {
   "cell_type": "markdown",
   "metadata": {},
   "source": [
    "Now, since we're not using chtMultiRegion, OpenFOAM doesn't have access to the thermal conductivity of the clad, which is necessary for determining the temperature gradient from the heat flux, so we must manually divide by $k$ to get the temperature gradient boundary at the clad surface"
   ]
  },
  {
   "cell_type": "code",
   "execution_count": 5,
   "metadata": {},
   "outputs": [
    {
     "data": {
      "text/latex": [
       "\n",
       "\\begin{align}\n",
       "k_{clad} &= 15.0\\ \\frac{\\mathrm{W}}{\\left(\\mathrm{K} \\cdot \\mathrm{m}\\right)} \\;\n",
       "\\end{align}\n"
      ],
      "text/plain": [
       "<IPython.core.display.Latex object>"
      ]
     },
     "metadata": {},
     "output_type": "display_data"
    }
   ],
   "source": [
    "%%render\n",
    "# Parameters\n",
    "k_clad = 15.0*ureg('W/(m*K)')"
   ]
  },
  {
   "cell_type": "code",
   "execution_count": 6,
   "metadata": {},
   "outputs": [
    {
     "data": {
      "text/latex": [
       "\n",
       "\\begin{align}\n",
       "\\mathrm{TempGradient} &= \\frac{ q'' }{ k_{clad} }  = \\frac{ 2.18\\times 10^{5}\\ \\frac{\\mathrm{W}}{\\mathrm{m}^{2}} }{ 15.0\\ \\frac{\\mathrm{W}}{\\left(\\mathrm{K} \\cdot \\mathrm{m}\\right)} } &= 1.46\\times 10^{4}\\ \\frac{\\mathrm{K}}{\\mathrm{m}}  \n",
       "\\end{align}\n"
      ],
      "text/plain": [
       "<IPython.core.display.Latex object>"
      ]
     },
     "metadata": {},
     "output_type": "display_data"
    }
   ],
   "source": [
    "%%render\n",
    "TempGradient = q_prime_prime/k_clad"
   ]
  },
  {
   "cell_type": "markdown",
   "metadata": {},
   "source": [
    "# Postprocessing\n",
    "Paraview can calculate integrals over axial cross sections, but to calculate surface averaged quantities, we must manually divide by the area."
   ]
  },
  {
   "cell_type": "markdown",
   "metadata": {},
   "source": [
    "## Outlet Averaged Fields\n",
    "We want to calculate the radial averages of the fields, $T$, $U_z$, and $p$. Paraview calculated the radial integrals of these quantities below"
   ]
  },
  {
   "cell_type": "code",
   "execution_count": 9,
   "metadata": {},
   "outputs": [
    {
     "data": {
      "text/latex": [
       "\n",
       "\\begin{align}\n",
       "T_{integrated} &= 0.0863\\ \\mathrm{K} \\cdot \\mathrm{m}^{2} \\; \n",
       " &p_{integrated} &= 3.91\\ \\mathrm{Pa} \\cdot \\mathrm{m}^{2} \\; \n",
       " &U_{z_{integrated}} &= 0.000103\\ \\frac{\\mathrm{m}^{3}}{\\mathrm{s}} \\; \n",
       "\\\\[10pt]\n",
       "\\end{align}\n"
      ],
      "text/plain": [
       "<IPython.core.display.Latex object>"
      ]
     },
     "metadata": {},
     "output_type": "display_data"
    }
   ],
   "source": [
    "%%render\n",
    "# Parameters\n",
    "T_integrated = 0.0862743*ureg('K*m^2')\n",
    "p_integrated = 3.9137*ureg('Pa*m^2')\n",
    "U_z_integrated = 0.000102536*ureg('m/s*m^2')"
   ]
  },
  {
   "cell_type": "markdown",
   "metadata": {},
   "source": [
    "Now we divide by the cross sectional area of the coolant to get the radial average"
   ]
  },
  {
   "cell_type": "code",
   "execution_count": 13,
   "metadata": {},
   "outputs": [
    {
     "data": {
      "text/latex": [
       "\n",
       "\\begin{align}\n",
       "T_{avg} &= \\frac{ T_{integrated} }{ A_{subchannel} }  = \\frac{ 0.0863\\ \\mathrm{K} \\cdot \\mathrm{m}^{2} }{ 1.03\\times 10^{2}\\ \\mathrm{mm}^{2} } &= 8.36\\times 10^{2}\\ \\mathrm{K}  \n",
       "\\\\[10pt]\n",
       "U_{z_{avg}} &= \\left( \\frac{ U_{z_{integrated}} }{ A_{subchannel} } \\right)  = \\left( \\frac{ 0.000103\\ \\frac{\\mathrm{m}^{3}}{\\mathrm{s}} }{ 1.03\\times 10^{2}\\ \\mathrm{mm}^{2} } \\right) &= 0.994\\ \\frac{\\mathrm{m}}{\\mathrm{s}}  \n",
       "\\\\[10pt]\n",
       "p_{avg} &= \\left( \\frac{ p_{integrated} }{ A_{subchannel} } \\right)  = \\left( \\frac{ 3.91\\ \\mathrm{Pa} \\cdot \\mathrm{m}^{2} }{ 1.03\\times 10^{2}\\ \\mathrm{mm}^{2} } \\right) &= 37.9\\ \\mathrm{kPa}  \n",
       "\\end{align}\n"
      ],
      "text/plain": [
       "<IPython.core.display.Latex object>"
      ]
     },
     "metadata": {},
     "output_type": "display_data"
    }
   ],
   "source": [
    "%%render\n",
    "T_avg = T_integrated/A_subchannel\n",
    "U_z_avg = (U_z_integrated/A_subchannel).to('m/s')\n",
    "p_avg = (p_integrated/A_subchannel).to('kPa')"
   ]
  },
  {
   "cell_type": "markdown",
   "metadata": {},
   "source": [
    "ASME Code Case N-201-5 provides for the use of Type 316H in core support structure applications at temperatures up to $816 C$, or $1089.15 K$, and we see that the maximum clad temperature of $940K$ is sufficiently below this code, allowing the use of stainless steel 316H."
   ]
  },
  {
   "cell_type": "markdown",
   "metadata": {},
   "source": [
    "# Worse Case: Fresh Core Hot Pin\n",
    "For a completely fresh core (homogeneous), we may use diffusion theory to approximate the power peaking. For a finite cylinder, the flux is given by\n",
    "\\begin{equation}\n",
    "    \\phi(r,z) = AJ_0\\left(\\frac{2.405 r}{R}\\right)\\cos\\left(\\frac{\\pi z}{H}\\right)\\nonumber\n",
    "\\end{equation}\n",
    "And the minimum to average flux ratio is\n",
    "\\begin{equation}\n",
    "    \\frac{\\phi_{max}}{\\phi_{av}}\\equiv \\Omega = 3.64\\nonumber\n",
    "\\end{equation}\n",
    "so we can approximate that the central fuel element will produce 3.64 times the average pin power"
   ]
  },
  {
   "cell_type": "code",
   "execution_count": 15,
   "metadata": {},
   "outputs": [
    {
     "data": {
      "text/latex": [
       "\n",
       "\\begin{align}\n",
       "P_{pin_{max}} &= 3.64 \\cdot q  = 3.64 \\cdot 22.6\\ \\mathrm{kW} &= 82.4\\ \\mathrm{kW}  \n",
       "\\end{align}\n"
      ],
      "text/plain": [
       "<IPython.core.display.Latex object>"
      ]
     },
     "metadata": {},
     "output_type": "display_data"
    }
   ],
   "source": [
    "%%render\n",
    "P_pin_max = 3.64*q"
   ]
  },
  {
   "cell_type": "markdown",
   "metadata": {},
   "source": [
    "Really this is our limiting case, for which we need to calculate the clad temperature, but first it's worth scoping to see whether the case for the average fuel temperature would actually be viable for natural circulation, to do this we must analyze the entire primary loop."
   ]
  },
  {
   "cell_type": "markdown",
   "metadata": {},
   "source": []
  }
 ],
 "metadata": {
  "kernelspec": {
   "display_name": "base",
   "language": "python",
   "name": "python3"
  },
  "language_info": {
   "codemirror_mode": {
    "name": "ipython",
    "version": 3
   },
   "file_extension": ".py",
   "mimetype": "text/x-python",
   "name": "python",
   "nbconvert_exporter": "python",
   "pygments_lexer": "ipython3",
   "version": "3.11.8"
  }
 },
 "nbformat": 4,
 "nbformat_minor": 2
}

{
 "cells": [
  {
   "cell_type": "code",
   "execution_count": 1,
   "metadata": {},
   "outputs": [],
   "source": [
    "import numpy as np\n",
    "from CoolProp.CoolProp import PropsSI\n",
    "import handcalcs.render\n",
    "from handcalcs.decorator import handcalc\n",
    "import pint\n",
    "import endf\n",
    "from numpy import pi\n",
    "from numpy import sqrt, log, exp, log10\n",
    "import os\n",
    "import matplotlib.pyplot as plt\n",
    "from scipy.optimize import fsolve\n",
    "import fluids\n",
    "\n",
    "ureg = pint.UnitRegistry(auto_reduce_dimensions=True)\n",
    "ureg.default_format = \"~P\"\n",
    "Q_ = ureg.Quantity\n",
    "ureg.define('USD = [currency] = $')"
   ]
  },
  {
   "cell_type": "markdown",
   "metadata": {},
   "source": [
    "# Calculating the Heat Flux\n",
    "The heat flux is used as a boundary condition in OpenFOAM, and can be calculated from the given pin geometry and the core power density"
   ]
  },
  {
   "cell_type": "code",
   "execution_count": 20,
   "metadata": {},
   "outputs": [
    {
     "data": {
      "text/latex": [
       "\n",
       "\\begin{align}\n",
       "d_{pin} &= 11.0\\ \\mathrm{mm} \\; \\;\\textrm{(Pincell diameter)}\n",
       " &h &= 3.0\\ \\mathrm{m} \\; \\;\\textrm{(Active core height)}\n",
       " &R_{pincell} &= 8.73\\ \\mathrm{mm} \\; \\;\\textrm{(Circumradius of hexagonal pincell)}\n",
       "\\\\[10pt]\n",
       " q''' &= 1\\times 10^{2}\\ \\frac{\\mathrm{kW}}{\\mathrm{l}} \\; \\;\\textrm{(Voulmetric power density)}\n",
       " &t_{clad} &= 0.6\\ \\mathrm{mm} \\; \\;\\textrm{(Clad thickness)}\n",
       "\\end{align}\n"
      ],
      "text/plain": [
       "<IPython.core.display.Latex object>"
      ]
     },
     "metadata": {},
     "output_type": "display_data"
    }
   ],
   "source": [
    "%%render\n",
    "# Parameters\n",
    "d_pin = 11.0*ureg('mm') # Pincell diameter\n",
    "h = 3.0*ureg('m') # Active core height\n",
    "R_pincell = (17.47/2)*ureg('mm') # Circumradius of hexagonal pincell\n",
    "q_prime_prime_prime = 100.0*ureg('kW/L') # Voulmetric power density\n",
    "t_clad = 0.6*ureg('mm') # Clad thickness"
   ]
  },
  {
   "cell_type": "code",
   "execution_count": 21,
   "metadata": {},
   "outputs": [
    {
     "data": {
      "text/latex": [
       "\n",
       "\\begin{align}\n",
       "r_{pincell} &= \\frac{ \\sqrt { 3 } }{ 2 } \\cdot R_{pincell}  = \\frac{ \\sqrt { 3 } }{ 2 } \\cdot 8.73\\ \\mathrm{mm} &= 7.56\\ \\mathrm{mm} \\; \\;\\textrm{(Pincell inradius - the lattice pitch)}\n",
       "\\\\[10pt]\n",
       "A_{fuel} &= \\pi \\cdot \\left( \\frac{ d_{pin} }{ 2 } - t_{clad} \\right) ^{ 2 }  = 3.142 \\cdot \\left( \\frac{ 11.0\\ \\mathrm{mm} }{ 2 } - 0.6\\ \\mathrm{mm} \\right) ^{ 2 } &= 75.4\\ \\mathrm{mm}^{2} \\; \\;\\textrm{(Fuel cross sectional area)}\n",
       "\\\\[10pt]\n",
       "A_{subchannel} &= 2 \\cdot \\sqrt { 3 } \\cdot \\left( r_{pincell} \\right) ^{ 2 } - \\pi \\cdot \\left( \\frac{ d_{pin} }{ 2 } \\right) ^{ 2 } \\\\&= 2 \\cdot \\sqrt { 3 } \\cdot \\left( 7.56\\ \\mathrm{mm} \\right) ^{ 2 } - 3.142 \\cdot \\left( \\frac{ 11.0\\ \\mathrm{mm} }{ 2 } \\right) ^{ 2 } \\\\&= 1.03\\times 10^{2}\\ \\mathrm{mm}^{2} \\; \\;\\textrm{(Coolant cross sectional area)}\\\\[10pt]\n",
       "\\\\[10pt]\n",
       "q &= A_{fuel} \\cdot h \\cdot q'''  = 75.4\\ \\mathrm{mm}^{2} \\cdot 3.0\\ \\mathrm{m} \\cdot 1\\times 10^{2}\\ \\frac{\\mathrm{kW}}{\\mathrm{l}} &= 22.6\\ \\mathrm{kW} \\; \\;\\textrm{(Power per rod)}\n",
       "\\\\[10pt]\n",
       "\\mathrm{SA}_{pin} &= 2 \\cdot \\pi \\cdot \\left( \\frac{ d_{pin} }{ 2 } \\right) \\cdot h  = 2 \\cdot 3.142 \\cdot \\left( \\frac{ 11.0\\ \\mathrm{mm} }{ 2 } \\right) \\cdot 3.0\\ \\mathrm{m} &= 0.104\\ \\mathrm{m}^{2} \\; \\;\\textrm{(Heated surface area of fuel pin)}\n",
       "\\\\[10pt]\n",
       "q'' &= \\left( \\frac{ q }{ \\mathrm{SA}_{pin} } \\right)  = \\left( \\frac{ 22.6\\ \\mathrm{kW} }{ 0.104\\ \\mathrm{m}^{2} } \\right) &= 2.18\\times 10^{5}\\ \\frac{\\mathrm{W}}{\\mathrm{m}^{2}}  \n",
       "\\end{align}\n"
      ],
      "text/plain": [
       "<IPython.core.display.Latex object>"
      ]
     },
     "metadata": {},
     "output_type": "display_data"
    }
   ],
   "source": [
    "%%render\n",
    "r_pincell = sqrt(3)/2*R_pincell # Pincell inradius - the lattice pitch\n",
    "A_fuel = pi*(d_pin/2 - t_clad)**2 # Fuel cross sectional area\n",
    "A_subchannel = 2*sqrt(3)*r_pincell**2 -  pi*(d_pin/2)**2 # Coolant cross sectional area\n",
    "q = A_fuel*h*q_prime_prime_prime # Power per rod\n",
    "SA_pin = 2*pi*(d_pin/2)*h # Heated surface area of fuel pin\n",
    "q_prime_prime = (q/SA_pin).to('W/m^2')"
   ]
  },
  {
   "cell_type": "markdown",
   "metadata": {},
   "source": [
    "Now, since we're not using chtMultiRegion, OpenFOAM doesn't have access to the thermal conductivity of the clad, which is necessary for determining the temperature gradient from the heat flux, so we must manually divide by $k$ to get the temperature gradient boundary at the clad surface"
   ]
  },
  {
   "cell_type": "code",
   "execution_count": 22,
   "metadata": {},
   "outputs": [
    {
     "data": {
      "text/latex": [
       "\n",
       "\\begin{align}\n",
       "k_{clad} &= 15.0\\ \\frac{\\mathrm{W}}{\\left(\\mathrm{K} \\cdot \\mathrm{m}\\right)} \\;\n",
       "\\end{align}\n"
      ],
      "text/plain": [
       "<IPython.core.display.Latex object>"
      ]
     },
     "metadata": {},
     "output_type": "display_data"
    }
   ],
   "source": [
    "%%render\n",
    "# Parameters\n",
    "k_clad = 15.0*ureg('W/(m*K)')"
   ]
  },
  {
   "cell_type": "code",
   "execution_count": 23,
   "metadata": {},
   "outputs": [
    {
     "data": {
      "text/latex": [
       "\n",
       "\\begin{align}\n",
       "\\mathrm{TempGradient} &= \\frac{ q'' }{ k_{clad} }  = \\frac{ 2.18\\times 10^{5}\\ \\frac{\\mathrm{W}}{\\mathrm{m}^{2}} }{ 15.0\\ \\frac{\\mathrm{W}}{\\left(\\mathrm{K} \\cdot \\mathrm{m}\\right)} } &= 1.46\\times 10^{4}\\ \\frac{\\mathrm{K}}{\\mathrm{m}}  \n",
       "\\end{align}\n"
      ],
      "text/plain": [
       "<IPython.core.display.Latex object>"
      ]
     },
     "metadata": {},
     "output_type": "display_data"
    }
   ],
   "source": [
    "%%render\n",
    "TempGradient = q_prime_prime/k_clad"
   ]
  },
  {
   "cell_type": "markdown",
   "metadata": {},
   "source": [
    "# Postprocessing\n",
    "Paraview can calculate integrals over axial cross sections, but to calculate surface averaged quantities, we must manually divide by the area."
   ]
  }
 ],
 "metadata": {
  "kernelspec": {
   "display_name": "base",
   "language": "python",
   "name": "python3"
  },
  "language_info": {
   "codemirror_mode": {
    "name": "ipython",
    "version": 3
   },
   "file_extension": ".py",
   "mimetype": "text/x-python",
   "name": "python",
   "nbconvert_exporter": "python",
   "pygments_lexer": "ipython3",
   "version": "3.11.8"
  }
 },
 "nbformat": 4,
 "nbformat_minor": 2
}

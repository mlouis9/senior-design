{
 "cells": [
  {
   "cell_type": "code",
   "execution_count": 1,
   "metadata": {},
   "outputs": [],
   "source": [
    "import numpy as np\n",
    "from CoolProp.CoolProp import PropsSI\n",
    "import handcalcs.render\n",
    "from handcalcs.decorator import handcalc\n",
    "import pint\n",
    "import endf\n",
    "from numpy import pi\n",
    "from numpy import sqrt, log, exp, log10\n",
    "import os\n",
    "import matplotlib.pyplot as plt\n",
    "from scipy.optimize import fsolve\n",
    "import fluids\n",
    "\n",
    "ureg = pint.UnitRegistry(auto_reduce_dimensions=True)\n",
    "ureg.default_format = \"~P\"\n",
    "Q_ = ureg.Quantity\n",
    "ureg.define('USD = [currency] = $')"
   ]
  },
  {
   "cell_type": "markdown",
   "metadata": {},
   "source": [
    "## Problem 1"
   ]
  },
  {
   "cell_type": "code",
   "execution_count": 30,
   "metadata": {},
   "outputs": [],
   "source": [
    "q = 100.0*ureg('kW/L')\n",
    "r = 5.5*ureg('mm')\n",
    "c_p = 1850.0*ureg('J/(kg*K)')\n",
    "rho = 2.12*ureg('g/cm^3')\n",
    "v = 0.97*ureg('m/s')\n",
    "P_over_D = 1.375\n",
    "z = 3.0*ureg('m')\n",
    "g = 9.8*ureg('m/s^2')\n",
    "A = 2.626E+03*ureg('kg/m^3')\n",
    "B = 0.61228*ureg('kg/(m^3*K)')\n",
    "T_ref = 800*ureg('K')\n",
    "r_fuel = r - 0.6*ureg('mm')"
   ]
  },
  {
   "cell_type": "code",
   "execution_count": 33,
   "metadata": {},
   "outputs": [
    {
     "data": {
      "text/latex": [
       "\n",
       "\\begin{align}\n",
       "\\beta &= \\frac{ B }{ A - B \\cdot T_{ref} } \\\\&= \\frac{ 0.612\\ \\frac{\\mathrm{kg}}{\\left(\\mathrm{K} \\cdot \\mathrm{m}^{3}\\right)} }{ 2.63\\times 10^{3}\\ \\frac{\\mathrm{kg}}{\\mathrm{m}^{3}} - 0.612\\ \\frac{\\mathrm{kg}}{\\left(\\mathrm{K} \\cdot \\mathrm{m}^{3}\\right)} \\cdot 800.000\\ \\mathrm{kelvin} } \\\\&= 0.000287\\ \\frac{1}{\\mathrm{K}}  \\\\[10pt]\n",
       "\\\\[10pt]\n",
       "A_{fuel} &= \\pi \\cdot \\left( r_{fuel} \\right) ^{ 2 } \\\\&= 3.142 \\cdot \\left( 4.9\\ \\mathrm{mm} \\right) ^{ 2 } \\\\&= 75.4\\ \\mathrm{mm}^{2}  \\\\[10pt]\n",
       "\\\\[10pt]\n",
       "p &= P_{over_{D}} \\cdot 2 \\cdot r \\\\&= 1.375 \\cdot 2 \\cdot 5.5\\ \\mathrm{mm} \\\\&= 15.1\\ \\mathrm{mm}  \\\\[10pt]\n",
       "\\\\[10pt]\n",
       "A_{subchannel} &= 2 \\cdot \\sqrt { 3 } \\cdot \\left( \\frac{ p }{ 2 } \\right) ^{ 2 } - \\pi \\cdot \\left( r \\right) ^{ 2 } \\\\&= 2 \\cdot \\sqrt { 3 } \\cdot \\left( \\frac{ 15.1\\ \\mathrm{mm} }{ 2 } \\right) ^{ 2 } - 3.142 \\cdot \\left( 5.5\\ \\mathrm{mm} \\right) ^{ 2 } \\\\&= 1.03\\times 10^{2}\\ \\mathrm{mm}^{2}  \\\\[10pt]\n",
       "\\\\[10pt]\n",
       "q' &= q \\cdot A_{fuel} \\\\&= 1\\times 10^{2}\\ \\frac{\\mathrm{kW}}{\\mathrm{l}} \\cdot 75.4\\ \\mathrm{mm}^{2} \\\\&= 0.00754\\ \\frac{\\mathrm{kW}}{\\mathrm{mm}}  \\\\[10pt]\n",
       "\\\\[10pt]\n",
       "\\Delta_{TperZ} &= \\left( \\frac{ q' }{ v \\cdot \\rho \\cdot A_{subchannel} \\cdot c_{p} } \\right) \\\\&= \\left( \\frac{ 0.00754\\ \\frac{\\mathrm{kW}}{\\mathrm{mm}} }{ 0.97\\ \\frac{\\mathrm{m}}{\\mathrm{s}} \\cdot 2.12\\ \\frac{\\mathrm{g}}{\\mathrm{cm}^{3}} \\cdot 1.03\\times 10^{2}\\ \\mathrm{mm}^{2} \\cdot 1.85\\times 10^{3}\\ \\frac{\\mathrm{J}}{\\left(\\mathrm{K} \\cdot \\mathrm{kg}\\right)} } \\right) \\\\&= 19.2\\ \\frac{\\mathrm{K}}{\\mathrm{m}}  \\\\[10pt]\n",
       "\\\\[10pt]\n",
       "\\Delta_{T} &= \\Delta_{TperZ} \\cdot z \\\\&= 19.2\\ \\frac{\\mathrm{K}}{\\mathrm{m}} \\cdot 3.0\\ \\mathrm{m} \\\\&= 57.7\\ \\mathrm{K}  \\\\[10pt]\n",
       "\\\\[10pt]\n",
       "v_{calc} &= \\sqrt { 2 \\cdot g \\cdot \\beta \\cdot \\Delta_{T} \\cdot z } \\\\&= \\sqrt { 2 \\cdot 9.8\\ \\frac{\\mathrm{m}}{\\mathrm{s}^{2}} \\cdot 0.000287\\ \\frac{1}{\\mathrm{K}} \\cdot 57.7\\ \\mathrm{K} \\cdot 3.0\\ \\mathrm{m} } \\\\&= 0.986\\ \\frac{\\mathrm{m}}{\\mathrm{s}}  \\\\[10pt]\n",
       "\\end{align}\n"
      ],
      "text/plain": [
       "<IPython.core.display.Latex object>"
      ]
     },
     "metadata": {},
     "output_type": "display_data"
    }
   ],
   "source": [
    "%%render long\n",
    "beta = B/(A-B*T_ref)\n",
    "A_fuel = pi*(r_fuel)**2\n",
    "p = P_over_D*2*r\n",
    "A_subchannel = 2*sqrt(3)*(p/2)**2 - pi*r**2\n",
    "q_prime = q*A_fuel\n",
    "Delta_TperZ = (q_prime/(v*rho*A_subchannel*c_p)).to('K/m')\n",
    "Delta_T = Delta_TperZ*z\n",
    "v_calc = sqrt(2*g*beta*Delta_T*z)\n"
   ]
  }
 ],
 "metadata": {
  "kernelspec": {
   "display_name": "base",
   "language": "python",
   "name": "python3"
  },
  "language_info": {
   "codemirror_mode": {
    "name": "ipython",
    "version": 3
   },
   "file_extension": ".py",
   "mimetype": "text/x-python",
   "name": "python",
   "nbconvert_exporter": "python",
   "pygments_lexer": "ipython3",
   "version": "3.11.8"
  }
 },
 "nbformat": 4,
 "nbformat_minor": 2
}

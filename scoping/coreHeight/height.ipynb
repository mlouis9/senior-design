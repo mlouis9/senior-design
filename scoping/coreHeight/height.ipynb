{
 "cells": [
  {
   "cell_type": "code",
   "execution_count": 1,
   "metadata": {},
   "outputs": [],
   "source": [
    "import numpy as np\n",
    "from CoolProp.CoolProp import PropsSI\n",
    "import handcalcs.render\n",
    "from handcalcs.decorator import handcalc\n",
    "import pint\n",
    "import endf\n",
    "from numpy import pi\n",
    "from numpy import sqrt, log, exp, log10\n",
    "import os\n",
    "import matplotlib.pyplot as plt\n",
    "from scipy.optimize import fsolve\n",
    "import fluids\n",
    "\n",
    "ureg = pint.UnitRegistry(auto_reduce_dimensions=True)\n",
    "ureg.default_format = \"~P\"\n",
    "Q_ = ureg.Quantity\n",
    "ureg.define('USD = [currency] = $')"
   ]
  },
  {
   "cell_type": "markdown",
   "metadata": {},
   "source": [
    "## Problem 1"
   ]
  },
  {
   "cell_type": "code",
   "execution_count": 2,
   "metadata": {},
   "outputs": [],
   "source": [
    "q = 100.0*ureg('kW/L')\n",
    "r = 4.0*ureg('mm')\n",
    "c_p = 0.609*ureg('J/(g*K)')\n",
    "rho = 2.5*ureg('g/cm^3')\n",
    "v = 1*ureg('m/s')\n",
    "P_over_D = 1.5\n",
    "z = 5.0*ureg('m')\n",
    "g = 9.8*ureg('m/s^2')\n",
    "A = 363.1*ureg('J/(kg*K)')\n",
    "B = 0.19*ureg('J/(kg*K^2)')\n",
    "T_ref = 1000*ureg('K')\n",
    "r_fuel = r - 0.6*ureg('mm')"
   ]
  },
  {
   "cell_type": "code",
   "execution_count": 5,
   "metadata": {},
   "outputs": [
    {
     "data": {
      "text/latex": [
       "\n",
       "\\begin{align}\n",
       "\\beta &= \\frac{ B }{ A - B \\cdot T_{ref} } \\\\&= \\frac{ 0.19\\ \\frac{\\mathrm{J}}{\\left(\\mathrm{K}^{2} \\cdot \\mathrm{kg}\\right)} }{ 3.63\\times 10^{2}\\ \\frac{\\mathrm{J}}{\\left(\\mathrm{K} \\cdot \\mathrm{kg}\\right)} - 0.19\\ \\frac{\\mathrm{J}}{\\left(\\mathrm{K}^{2} \\cdot \\mathrm{kg}\\right)} \\cdot 1000.000\\ \\mathrm{kelvin} } \\\\&= 0.0011\\ \\frac{1}{\\mathrm{K}}  \\\\[10pt]\n",
       "\\\\[10pt]\n",
       "A_{fuel} &= \\pi \\cdot \\left( r_{fuel} \\right) ^{ 2 } \\\\&= 3.142 \\cdot \\left( 3.4\\ \\mathrm{mm} \\right) ^{ 2 } \\\\&= 36.3\\ \\mathrm{mm}^{2}  \\\\[10pt]\n",
       "\\\\[10pt]\n",
       "p &= P_{over_{D}} \\cdot 2 \\cdot r \\\\&= 1.500 \\cdot 2 \\cdot 4.0\\ \\mathrm{mm} \\\\&= 12.0\\ \\mathrm{mm}  \\\\[10pt]\n",
       "\\\\[10pt]\n",
       "A_{subchannel} &= 3 \\cdot \\frac{ \\sqrt { 3 } }{ 2 } \\cdot \\left( p \\right) ^{ 2 } - 3 \\cdot \\pi \\cdot \\left( r \\right) ^{ 2 } \\\\&= 3 \\cdot \\frac{ \\sqrt { 3 } }{ 2 } \\cdot \\left( 12.0\\ \\mathrm{mm} \\right) ^{ 2 } - 3 \\cdot 3.142 \\cdot \\left( 4.0\\ \\mathrm{mm} \\right) ^{ 2 } \\\\&= 2.23\\times 10^{2}\\ \\mathrm{mm}^{2}  \\\\[10pt]\n",
       "\\\\[10pt]\n",
       "q' &= 3 \\cdot q \\cdot A_{fuel} \\\\&= 3 \\cdot 1\\times 10^{2}\\ \\frac{\\mathrm{kW}}{\\mathrm{l}} \\cdot 36.3\\ \\mathrm{mm}^{2} \\\\&= 0.0109\\ \\frac{\\mathrm{kW}}{\\mathrm{mm}}  \\\\[10pt]\n",
       "\\\\[10pt]\n",
       "\\Delta_{TperZ} &= \\left( \\frac{ q' }{ v \\cdot \\rho \\cdot A_{subchannel} \\cdot c_{p} } \\right) \\\\&= \\left( \\frac{ 0.0109\\ \\frac{\\mathrm{kW}}{\\mathrm{mm}} }{ 1.0\\ \\frac{\\mathrm{m}}{\\mathrm{s}} \\cdot 2.5\\ \\frac{\\mathrm{g}}{\\mathrm{cm}^{3}} \\cdot 2.23\\times 10^{2}\\ \\mathrm{mm}^{2} \\cdot 0.609\\ \\frac{\\mathrm{J}}{\\left(\\mathrm{K} \\cdot \\mathrm{g}\\right)} } \\right) \\\\&= 32.0\\ \\frac{\\mathrm{K}}{\\mathrm{m}}  \\\\[10pt]\n",
       "\\\\[10pt]\n",
       "\\Delta_{T} &= \\Delta_{TperZ} \\cdot z \\\\&= 32.0\\ \\frac{\\mathrm{K}}{\\mathrm{m}} \\cdot 5.0\\ \\mathrm{m} \\\\&= 1.6\\times 10^{2}\\ \\mathrm{K}  \\\\[10pt]\n",
       "\\\\[10pt]\n",
       "v_{calc} &= \\sqrt { 2 \\cdot g \\cdot \\beta \\cdot \\Delta_{T} \\cdot z } \\\\&= \\sqrt { 2 \\cdot 9.8\\ \\frac{\\mathrm{m}}{\\mathrm{s}^{2}} \\cdot 0.0011\\ \\frac{1}{\\mathrm{K}} \\cdot 1.6\\times 10^{2}\\ \\mathrm{K} \\cdot 5.0\\ \\mathrm{m} } \\\\&= 4.15\\ \\frac{\\mathrm{m}}{\\mathrm{s}}  \\\\[10pt]\n",
       "\\end{align}\n"
      ],
      "text/plain": [
       "<IPython.core.display.Latex object>"
      ]
     },
     "metadata": {},
     "output_type": "display_data"
    }
   ],
   "source": [
    "%%render long\n",
    "beta = B/(A-B*T_ref)\n",
    "A_fuel = pi*(r_fuel)**2\n",
    "p = P_over_D*2*r\n",
    "A_subchannel = 3*sqrt(3)/2*p**2 - 3*pi*r**2\n",
    "q_prime = 3*q*A_fuel\n",
    "Delta_TperZ = (q_prime/(v*rho*A_subchannel*c_p)).to('K/m')\n",
    "Delta_T = Delta_TperZ*z\n",
    "v_calc = sqrt(2*g*beta*Delta_T*z)\n"
   ]
  },
  {
   "cell_type": "code",
   "execution_count": null,
   "metadata": {},
   "outputs": [],
   "source": []
  }
 ],
 "metadata": {
  "kernelspec": {
   "display_name": "base",
   "language": "python",
   "name": "python3"
  },
  "language_info": {
   "codemirror_mode": {
    "name": "ipython",
    "version": 3
   },
   "file_extension": ".py",
   "mimetype": "text/x-python",
   "name": "python",
   "nbconvert_exporter": "python",
   "pygments_lexer": "ipython3",
   "version": "3.11.6"
  }
 },
 "nbformat": 4,
 "nbformat_minor": 2
}

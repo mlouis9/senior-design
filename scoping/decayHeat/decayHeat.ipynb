{
 "cells": [
  {
   "cell_type": "code",
   "execution_count": 2,
   "metadata": {},
   "outputs": [],
   "source": [
    "import numpy as np\n",
    "from CoolProp.CoolProp import PropsSI\n",
    "import handcalcs.render\n",
    "from handcalcs.decorator import handcalc\n",
    "import pint\n",
    "import endf\n",
    "from numpy import pi\n",
    "from numpy import sqrt, log, exp, log10\n",
    "import os\n",
    "import matplotlib.pyplot as plt\n",
    "from scipy.optimize import fsolve\n",
    "import fluids\n",
    "\n",
    "ureg = pint.UnitRegistry(auto_reduce_dimensions=True)\n",
    "ureg.default_format = \"~P\"\n",
    "Q_ = ureg.Quantity\n",
    "ureg.define('USD = [currency] = $')"
   ]
  },
  {
   "cell_type": "code",
   "execution_count": 9,
   "metadata": {},
   "outputs": [
    {
     "data": {
      "text/latex": [
       "\n",
       "\\begin{align}\n",
       "r &= 1.3\\ \\mathrm{m} \\; \\;\\textrm{(Core radius)}\n",
       " &h &= 3.0\\ \\mathrm{m} \\; \\;\\textrm{(Active height)}\n",
       " &\\sigma &= 5.67\\times 10^{-8}\\ \\frac{\\mathrm{W}}{\\left(\\mathrm{K}^{4} \\cdot \\mathrm{m}^{2}\\right)} \\; \n",
       "\\\\[10pt]\n",
       " \\epsilon &= 1 \\; \n",
       " &T_{air} &= 2.87\\times 10^{2}\\ \\mathrm{K} \\; \n",
       " &Q &= 2.5\\ \\mathrm{MW} \\; \\;\\textrm{(Shutdown decay heat)}\n",
       "\\\\[10pt]\n",
       "\\end{align}\n"
      ],
      "text/plain": [
       "<IPython.core.display.Latex object>"
      ]
     },
     "metadata": {},
     "output_type": "display_data"
    }
   ],
   "source": [
    "%%render\n",
    "# Parameters\n",
    "r = 1.3*ureg('m') # Core radius\n",
    "h = 3.0*ureg('m') # Active height\n",
    "sigma = 5.670374419E-08*ureg('W/(m^2*K^4)')\n",
    "epsilon = 1\n",
    "T_air = 287.0*ureg('K')\n",
    "Q = 2.5*ureg('MW') # Shutdown decay heat"
   ]
  },
  {
   "cell_type": "markdown",
   "metadata": {},
   "source": [
    "Assuming no radiators, and a smooth cylindrical vessel surface"
   ]
  },
  {
   "cell_type": "code",
   "execution_count": 11,
   "metadata": {},
   "outputs": [
    {
     "data": {
      "text/latex": [
       "\n",
       "\\begin{align}\n",
       "A &= \\pi \\cdot \\left( r \\right) ^{ 2 } \\cdot 2 + 2 \\cdot \\pi \\cdot r \\cdot h \\\\&= 3.142 \\cdot \\left( 1.3\\ \\mathrm{m} \\right) ^{ 2 } \\cdot 2 + 2 \\cdot 3.142 \\cdot 1.3\\ \\mathrm{m} \\cdot 3.0\\ \\mathrm{m} \\\\&= 35.1\\ \\mathrm{m}^{2} \\; \\;\\textrm{(Assuming top and bottom of cylinder exposed to air)}\\\\[10pt]\n",
       "\\\\[10pt]\n",
       "T &= \\left( \\frac{ Q }{ A \\cdot \\sigma \\cdot \\epsilon } + \\left( T_{air} \\right) ^{ 4 } \\right) ^{ \\left( \\frac{ 1 }{ 4 } \\right) } \\\\&= \\left( \\frac{ 2.5\\ \\mathrm{MW} }{ 35.1\\ \\mathrm{m}^{2} \\cdot 5.67\\times 10^{-8}\\ \\frac{\\mathrm{W}}{\\left(\\mathrm{K}^{4} \\cdot \\mathrm{m}^{2}\\right)} \\cdot 1 } + \\left( 2.87\\times 10^{2}\\ \\mathrm{K} \\right) ^{ 4 } \\right) ^{ \\left( \\frac{ 1 }{ 4 } \\right) } \\\\&= 1.06\\times 10^{3}\\ \\mathrm{K}  \\\\[10pt]\n",
       "\\end{align}\n"
      ],
      "text/plain": [
       "<IPython.core.display.Latex object>"
      ]
     },
     "metadata": {},
     "output_type": "display_data"
    }
   ],
   "source": [
    "%%render\n",
    "A = pi*r**2*2 + 2*pi*r*h # Assuming top and bottom of cylinder exposed to air\n",
    "T = (Q/(A*sigma*epsilon) + T_air**4)**(1/4)"
   ]
  },
  {
   "cell_type": "markdown",
   "metadata": {},
   "source": [
    "ASME Code Case N-201-5 provides for the use of Type 316H in core support structure applications at temperatures up to $816 C$, or $1089.15 K$, and we see that the maximum clad temperature of $1060K$ is just barely below this code. This is also a fairly conservative calculation, because convective cooling was neglected, and it was assumed that there are no fins on the vessel (which would increase the surface area for radiation).\n",
    "\n",
    "However, a vessel temperature of $1000K$ implies a coolant temperature of at least $1000K$ at the periphery (assuming the vessel has zero thermal resistance), and thus it's likely that the code would be exceeded inside the core and the clad has the potential to melt."
   ]
  }
 ],
 "metadata": {
  "kernelspec": {
   "display_name": "base",
   "language": "python",
   "name": "python3"
  },
  "language_info": {
   "codemirror_mode": {
    "name": "ipython",
    "version": 3
   },
   "file_extension": ".py",
   "mimetype": "text/x-python",
   "name": "python",
   "nbconvert_exporter": "python",
   "pygments_lexer": "ipython3",
   "version": "3.11.8"
  }
 },
 "nbformat": 4,
 "nbformat_minor": 2
}

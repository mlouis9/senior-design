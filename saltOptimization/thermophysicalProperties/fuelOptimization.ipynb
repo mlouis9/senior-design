{
 "cells": [
  {
   "cell_type": "code",
   "execution_count": 2,
   "metadata": {},
   "outputs": [],
   "source": [
    "from pathlib import Path\n",
    "from thermophysicalProperties import Database\n",
    "import matplotlib.pyplot as plt\n",
    "import numpy as np\n",
    "from frozendict import frozendict\n",
    "import pint\n",
    "ureg = pint.UnitRegistry(auto_reduce_dimensions=True)\n",
    "from uncertainties import ufloat\n",
    "import os\n",
    "from numdifftools import Derivative\n",
    "from scipy.optimize import minimize\n",
    "import warnings\n",
    "import sys\n",
    "import thermoToolsAdditions as tta\n",
    "from thermoToolsAdditions import convert_to_thermochem_name\n",
    "\n",
    "warnings.filterwarnings(\"ignore\")\n",
    "\n",
    "thermochimica_path = Path(\"../../thermochimica\")\n",
    "output_path = Path('../outputs')\n",
    "output_name = 'output.json'\n",
    "data_file = Path(\"../../thermochimica/data/MSTDB-TC_V3.0_Fluorides_No_Functions_8-2.dat\")\n",
    "input_file_name = \"runThermochimica.ti\"\n",
    "\n",
    "# Get the script name from sys.argv\n",
    "script_name = sys.argv[0]\n",
    "\n",
    "# Get the absolute path of the script\n",
    "script_dir = Path(os.path.abspath(script_name)).resolve().parent\n",
    "\n",
    "mstdb_tp_path = Path('../../mstdb-tp/Molten_Salt_Thermophysical_Properties.csv')\n",
    "mstdb_tp_rk_path = Path('../../mstdb-tp/Molten_Salt_Thermophysical_Properties_RK.csv')\n",
    "\n",
    "db = Database(mstdb_tp_path, mstdb_tp_rk_path)"
   ]
  },
  {
   "cell_type": "markdown",
   "metadata": {},
   "source": [
    "# Fuel Optimization"
   ]
  },
  {
   "cell_type": "markdown",
   "metadata": {},
   "source": [
    "For the fuel salt, a chloride salt was chosen, and has been identified as a good choice for fast systems by a number of reactor designers (e.g. Terra Power) due to its relatively high $A$ (minimal moderation) and various fissile components and fission products tend to have high solubilities in chloride melts, making them good fuel carriers. The base components under consideration are\n",
    "1. $\\text{KCl}$\n",
    "2. $\\text{NaCl}$\n",
    "3. $\\text{ZrCl}_4$\n",
    "4. $\\text{AlCl}$\n",
    "5. $\\text{UCl}_3$ (the most common redox state of U in chloride melts)\n",
    "6. $\\text{PuCl}_3$ (also the most common redox state)\n",
    "7. $\\text{NdCl}_3$ (only used as a surrogate for Cm)\n",
    "\n",
    "A notable exclusion is $\\text{MgCl}_2$, which is often considered due to its ability to control redox or lower the melting point of the salt, which can be a concern for chlorides which generally have higher melting points than fluorides although $\\text{RbCl}$ can also be used for this purpose, however, no thermophysical properties are currently available in MSTDB-TP, so it has been excluded. Additionally, it was determined that Zr additives would be used for redox control, so Mg is not necesssary. $\\text{PuCl}$ and $\\text{UCl}$ are both present in the salt, however we will consider their ratio fixed (these components are more relevant for neutronics than thermal hydraulics) and also the fraction of actinides in the fuel salt is also constrained by criticality and fuel cycle requirements. We will perform this calculation with a fixed actinide fraction with the hope that they're soluble at the periphery of the fuel tube, and we will verify this after the fact.\n",
    "\n",
    "For the fuel salt, the heating requirements are also a concern, and we would like the salt to not have a prohibitively high melting point, but in this design, the fuel salt will actually reach very high temperatures on the centerline, and the boiling temperature of the fuel salt becomes a relevant consideration. To acheive a high power density in the salt (comparable to a LWR at ~100 kW/L) a boiling point of around 1800 K is desirable, based on rudimentary thermohydraulics scoping calculations.\n",
    "\n",
    "Availability of thermophysical properties\n",
    "| Pure Compound   | $\\rho$ | $\\mu$ | $k$  | $c_p$ |\n",
    "| --------------- | ------ | ----- | ---- | ----- | \n",
    "| $\\text{KCl}$    |   ✓    |   ✓   |  ✓   |   ✓   |\n",
    "| $\\text{NaCl}$   |   ✓    |   ✓   |  ✓   |   ✓   |\n",
    "| $\\text{ZrCl}_4$ |   ✓    |   ✓   |  ✗   |   ✗   |\n",
    "| $\\text{AlCl}$   |   ✓    |   ✓   |  ✗   |   ✓   |\n",
    "| $\\text{UCl}_3$  |   ✓    |   ✗   |  ✗   |   ✗   |\n",
    "| $\\text{PuCl}_3$ |   ✗    |   ✗   |  ✗   |   ✓   |\n",
    "| $\\text{NdCl}_3$ |   ✓    |   ✓   |  ✗   |   ✓   |\n",
    "\n",
    "Which is admittedly quite sparse, but is more than sufficient to fully calculate all of the thermophysical properties of a salt of interest (so long as we don't exclude some endmembers).\n",
    "\n",
    "## Optimization Methodology\n",
    "An important consideration in the fuel sallt is the centerline temperature. In our design, since molten salt is a relatively poor conductor, the centerline can reach _very_ high temperatures, and the constraint then becomes the fuel salt melting point. The temperature profile (assuming pure conduction) is parabolic, and the centerline temperature is given by\n",
    "$$\n",
    "    T(0) = \\frac{\\dot{q}r_o^2}{4k} + T_\\infty + \\frac{\\dot{q}r_o}{2h}\\nonumber\n",
    "$$\n",
    "Where $T(0)$ is the centerline temperature, $\\dot{q}$ is the volumetric heat generation rate within the rod (our target is around 100 kW/L), $r_o$ is the outer fuel rod radius, $k$ is the fuel salt thermal conductivity, $h$ is the heat transfer coefficient from the outer rod surface to the coolant salt (which is not affected by the fuel salt), and $T_\\infty$ is the bulk coolant temperature away from the thermal boundary layer near the rod surface. From this expression, it's clear that increasing the thermal conductivity of the fuel salt and/or raising its boiling point will loosen the constraints on our design. However, we also want our fuel salt to melt at a reasonable temperature (say 800-900 K). So our goal will be to maximize the thermal conductivity while keeping the melting point below 800-900 K, and the boiling point above 2000 K."
   ]
  },
  {
   "cell_type": "markdown",
   "metadata": {},
   "source": [
    "## Actinide Composition\n",
    "The fuel composition is (representing an actinide fraction of 55 mole %): $\\text{PuCl}_3$ - $\\text{NdCl}_3$ - $\\text{UCl}_3$ ($39.8$ - $0.2$ - $15.0$ mole %) which is notably _mostly_ $\\text{PuCl}_3$, the rest of the fuel salt (45 mole %) is unconstrained. "
   ]
  },
  {
   "cell_type": "code",
   "execution_count": null,
   "metadata": {},
   "outputs": [],
   "source": [
    "T_max = 900 # Maximum melting point\n",
    "T_min = 2000\n",
    "\n",
    "actinide_composition = np.array([0.398, 0.002, 0.15])\n",
    "\n",
    "def check_melting_and_boiling(x, endmembers, elements_used):\n",
    "    x = np.append(x, 0.45-sum(x))\n",
    "    x = np.append(x, actinide_composition)\n",
    "\n",
    "    # Convert from NaF to Na F (unfortunate mismatch in convention)\n",
    "    new_endmembers = [convert_to_thermochem_name(endmember) for endmember in endmembers]\n",
    "    salt = dict({endmember: x[i] for i, endmember in enumerate(new_endmembers)})\n",
    "\n",
    "    try:\n",
    "        T_m, T_b = tta.calculate_melting_and_boiling(thermochimica_path, output_path, output_name, data_file, salt, elements_used, \\\n",
    "                                                   suppress_output=True, phase_tolerance=0.9)\n",
    "        return min(T_max - T_m, T_b - T_min)\n",
    "    except:\n",
    "        # Return a large negative value to indicate that the constriaint was not satisfied\n",
    "        return -1E+06 # The supplied salt does not have a melting or boiling point in the given range (it could be that the salt sublimates)\n",
    "    \n",
    "# A constraint function which ensures that sum(x) = 1\n",
    "def constraint(x):\n",
    "    return 0.45 - np.sum(x)\n",
    "\n",
    "# Define the constraints in a format that `minimize` can use\n",
    "cons = ({'type': 'ineq', 'fun': constraint})"
   ]
  },
  {
   "cell_type": "code",
   "execution_count": null,
   "metadata": {},
   "outputs": [],
   "source": [
    "T_f = 1350 # Assumed average fuel temperature in K\n",
    "\n",
    "# Define the objective function\n",
    "def objective(x, endmembers):\n",
    "    x = np.append(x, 1-sum(x))\n",
    "    x = np.append(x, actinide_composition)\n",
    "    salt = frozendict({endmember: x[i] for i, endmember in enumerate(endmembers)})\n",
    "    try:\n",
    "        k = db.get_tp('thermal_conductivity', salt)(T_f).nominal_value\n",
    "    except OverflowError:\n",
    "        return 1E+03\n",
    "    objective = k\n",
    "    if np.isnan(objective) or np.isinf(objective):\n",
    "        return 1E+03\n",
    "    else:\n",
    "        return objective"
   ]
  },
  {
   "cell_type": "code",
   "execution_count": null,
   "metadata": {},
   "outputs": [],
   "source": [
    "endmembers = ['NaCl', 'KCl', 'ZrCl4', 'PuCl3', 'NdCl3', 'UCl3']\n",
    "elements_used = ['Cl', 'Na', 'K', 'Zr', 'Pu', 'Nd', 'U']\n",
    "\n",
    "# Define the constraints in a format that `minimize` can use\n",
    "cons = ({'type': 'ineq', 'fun': constraint, 'tol': 1e-6}, \\\n",
    "        {'type': 'ineq', 'fun': check_melting_and_boiling, 'args': (endmembers, elements_used), 'tol': 1e-6})"
   ]
  },
  {
   "cell_type": "code",
   "execution_count": 1,
   "metadata": {},
   "outputs": [
    {
     "ename": "NameError",
     "evalue": "name 'tta' is not defined",
     "output_type": "error",
     "traceback": [
      "\u001b[0;31m---------------------------------------------------------------------------\u001b[0m",
      "\u001b[0;31mNameError\u001b[0m                                 Traceback (most recent call last)",
      "Cell \u001b[0;32mIn[1], line 2\u001b[0m\n\u001b[1;32m      1\u001b[0m test_composition \u001b[38;5;241m=\u001b[39m {\u001b[38;5;124m'\u001b[39m\u001b[38;5;124mNa Cl\u001b[39m\u001b[38;5;124m'\u001b[39m: \u001b[38;5;241m0.3005\u001b[39m, \u001b[38;5;124m'\u001b[39m\u001b[38;5;124mK Cl\u001b[39m\u001b[38;5;124m'\u001b[39m: \u001b[38;5;241m0.054\u001b[39m, \u001b[38;5;124m'\u001b[39m\u001b[38;5;124mZr Cl_4\u001b[39m\u001b[38;5;124m'\u001b[39m: \u001b[38;5;241m0.01\u001b[39m, \u001b[38;5;124m'\u001b[39m\u001b[38;5;124mPu Cl_3\u001b[39m\u001b[38;5;124m'\u001b[39m: \u001b[38;5;241m0.398\u001b[39m, \u001b[38;5;124m'\u001b[39m\u001b[38;5;124mNd Cl_3\u001b[39m\u001b[38;5;124m'\u001b[39m: \u001b[38;5;241m0.002\u001b[39m, \u001b[38;5;124m'\u001b[39m\u001b[38;5;124mU Cl_3\u001b[39m\u001b[38;5;124m'\u001b[39m: \u001b[38;5;241m0.15\u001b[39m}\n\u001b[0;32m----> 2\u001b[0m \u001b[43mtta\u001b[49m\u001b[38;5;241m.\u001b[39mcalculate_melting_and_boiling(thermochimica_path, output_path, output_name, data_file, \\\n\u001b[1;32m      3\u001b[0m                                              test_composition, elements_used, ntstep\u001b[38;5;241m=\u001b[39m\u001b[38;5;241m150\u001b[39m, phase_tolerance\u001b[38;5;241m=\u001b[39m\u001b[38;5;241m0\u001b[39m)\n",
      "\u001b[0;31mNameError\u001b[0m: name 'tta' is not defined"
     ]
    }
   ],
   "source": [
    "test_composition = {'Na Cl': 0.3005, 'K Cl': 0.054, 'Zr Cl_4': 0.01, 'Pu Cl_3': 0.398, 'Nd Cl_3': 0.002, 'U Cl_3': 0.15}\n",
    "tta.calculate_melting_and_boiling(thermochimica_path, output_path, output_name, data_file, \\\n",
    "                                             test_composition, elements_used, ntstep=150, phase_tolerance=0)"
   ]
  },
  {
   "cell_type": "code",
   "execution_count": null,
   "metadata": {},
   "outputs": [],
   "source": []
  }
 ],
 "metadata": {
  "kernelspec": {
   "display_name": "base",
   "language": "python",
   "name": "python3"
  },
  "language_info": {
   "codemirror_mode": {
    "name": "ipython",
    "version": 3
   },
   "file_extension": ".py",
   "mimetype": "text/x-python",
   "name": "python",
   "nbconvert_exporter": "python",
   "pygments_lexer": "ipython3",
   "version": "3.11.6"
  }
 },
 "nbformat": 4,
 "nbformat_minor": 2
}

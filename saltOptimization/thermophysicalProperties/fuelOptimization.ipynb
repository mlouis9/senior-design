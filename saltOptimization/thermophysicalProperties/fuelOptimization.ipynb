{
 "cells": [
  {
   "cell_type": "markdown",
   "metadata": {},
   "source": [
    "# Fuel Optimization"
   ]
  },
  {
   "cell_type": "markdown",
   "metadata": {},
   "source": [
    "For the fuel salt, a chloride salt was chosen, and has been identified as a good choice for fast systems by a number of reactor designers (e.g. Terra Power) due to its relatively high $A$ (minimal moderation) and various fissile components and fission products tend to have high solubilities in chloride melts, making them good fuel carriers. The base components under consideration are\n",
    "1. $\\text{KCl}$\n",
    "2. $\\text{NaCl}$\n",
    "3. $\\text{ZrCl}_4$\n",
    "4. $\\text{UCl}_3$ (the most common redox state of U in chloride melts)\n",
    "5. $\\text{PuCl}_3$ (also the most common redox state)\n",
    "6. $\\text{RbCl}$\n",
    "\n",
    "A notable exclusion is $\\text{MgCl}_2$, which is often considered due to its ability to control redox or lower the melting point of the salt, which can be a concern for chlorides which generally have higher melting points than fluorides although $\\text{RbCl}$ can also be used for this purpose. Additionally, it was determined that Zr additives would be used for redox control, so Mg is not necesssary. $\\text{PuCl}$ and $\\text{UCl}$ are both present in the salt, however we will consider their ratio fixed (these components are more relevant for neutronics than thermal hydraulics) and also the fraction of actinides in the fuel salt is also constrained by criticality and fuel cycle requirements. We will perform this calculation with a fixed actinide fraction with the hope that they're soluble at the periphery of the fuel tube, and we will verify this after the fact.\n",
    "\n",
    "For the fuel salt, the heating requirements are also a concern, and we would like the salt to not have a prohibitively high melting point, but in this design, the fuel salt will actually reach very high temperatures on the centerline, and the boiling temperature of the fuel salt becomes a relevant consideration. To acheive a high power density in the salt (comparable to a LWR at ~100 kW/L) a boiling point of around 1800 K is desirable, based on rudimentary thermohydraulics scoping calculations.\n",
    "\n",
    "Availability of thermophysical properties\n",
    "| Pure Compound | $\\rho$ | $\\mu$ | $k$ | $c_p$ |\n",
    "| ------------- | ------ | ----- | --- | ----- | \n",
    "|               |        |       |     | <input type=\"checkbox\"/>  |"
   ]
  },
  {
   "cell_type": "markdown",
   "metadata": {},
   "source": []
  }
 ],
 "metadata": {
  "language_info": {
   "name": "python"
  }
 },
 "nbformat": 4,
 "nbformat_minor": 2
}

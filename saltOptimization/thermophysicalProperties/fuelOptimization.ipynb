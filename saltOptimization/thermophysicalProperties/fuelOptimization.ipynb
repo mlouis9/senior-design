{
 "cells": [
  {
   "cell_type": "code",
   "execution_count": 1,
   "metadata": {},
   "outputs": [],
   "source": [
    "from pathlib import Path\n",
    "from thermophysicalProperties import Database\n",
    "import matplotlib.pyplot as plt\n",
    "import numpy as np\n",
    "from frozendict import frozendict\n",
    "import pint\n",
    "ureg = pint.UnitRegistry(auto_reduce_dimensions=True)\n",
    "from uncertainties import ufloat\n",
    "import os\n",
    "from numdifftools import Derivative\n",
    "from scipy.optimize import minimize\n",
    "import warnings\n",
    "import sys\n",
    "import thermoToolsAdditions as tta\n",
    "from thermoToolsAdditions import convert_to_thermochem_name\n",
    "from paths import THERMOCHIMICA, THERMOCHIMICA_CHLORIDE_DATA, MSTDB_TP_DATA, MSTDB_TP_RK_DATA, SALT_OPTIMIZATION\n",
    "\n",
    "warnings.filterwarnings(\"ignore\")\n",
    "\n",
    "import thermoToolsAdditions as tta\n",
    "from thermoToolsAdditions import convert_to_thermochem_name\n",
    "\n",
    "# File IO input parameters for thermoToolsAdditions\n",
    "tta.Config.set_config(\n",
    "    thermochimica_path = THERMOCHIMICA,\n",
    "    output_path = SALT_OPTIMIZATION / 'thermophysicalProperties',\n",
    "    data_file = THERMOCHIMICA_CHLORIDE_DATA\n",
    ")\n",
    "\n",
    "db = Database(MSTDB_TP_DATA, MSTDB_TP_RK_DATA)"
   ]
  },
  {
   "cell_type": "markdown",
   "metadata": {},
   "source": [
    "# Fuel Optimization"
   ]
  },
  {
   "cell_type": "markdown",
   "metadata": {},
   "source": [
    "For the fuel salt, a chloride salt was chosen, and has been identified as a good choice for fast systems by a number of reactor designers (e.g. Terra Power) due to its relatively high $A$ (minimal moderation) and various fissile components and fission products tend to have high solubilities in chloride melts, making them good fuel carriers. The base components under consideration are\n",
    "1. $\\text{KCl}$\n",
    "2. $\\text{NaCl}$\n",
    "3. $\\text{ZrCl}_4$\n",
    "4. $\\text{AlCl}$\n",
    "5. $\\text{UCl}_3$ (the most common redox state of U in chloride melts)\n",
    "6. $\\text{PuCl}_3$ (also the most common redox state)\n",
    "7. $\\text{NdCl}_3$ (only used as a surrogate for Cm)\n",
    "\n",
    "A notable exclusion is $\\text{MgCl}_2$, which is often considered due to its ability to control redox or lower the melting point of the salt, which can be a concern for chlorides which generally have higher melting points than fluorides although $\\text{RbCl}$ can also be used for this purpose, however, no thermophysical properties are currently available in MSTDB-TP, so it has been excluded. Additionally, it was determined that Zr additives would be used for redox control, so Mg is not necesssary. $\\text{PuCl}$ and $\\text{UCl}$ are both present in the salt, however we will consider their ratio fixed (these components are more relevant for neutronics than thermal hydraulics) and also the fraction of actinides in the fuel salt is also constrained by criticality and fuel cycle requirements. We will perform this calculation with a fixed actinide fraction with the hope that they're soluble at the periphery of the fuel tube, and we will verify this after the fact.\n",
    "\n",
    "For the fuel salt, the heating requirements are also a concern, and we would like the salt to not have a prohibitively high melting point, but in this design, the fuel salt will actually reach very high temperatures on the centerline, and the boiling temperature of the fuel salt becomes a relevant consideration. To acheive a high power density in the salt (comparable to a LWR at ~100 kW/L) a boiling point of around 1800 K is desirable, based on rudimentary thermohydraulics scoping calculations.\n",
    "\n",
    "Availability of thermophysical properties\n",
    "| Pure Compound   | $\\rho$ | $\\mu$ | $k$  | $c_p$ |\n",
    "| --------------- | ------ | ----- | ---- | ----- | \n",
    "| $\\text{KCl}$    |   ✓    |   ✓   |  ✓   |   ✓   |\n",
    "| $\\text{NaCl}$   |   ✓    |   ✓   |  ✓   |   ✓   |\n",
    "| $\\text{ZrCl}_4$ |   ✓    |   ✓   |  ✗   |   ✗   |\n",
    "| $\\text{AlCl}$   |   ✓    |   ✓   |  ✗   |   ✓   |\n",
    "| $\\text{UCl}_3$  |   ✓    |   ✗   |  ✗   |   ✗   |\n",
    "| $\\text{PuCl}_3$ |   ✗    |   ✗   |  ✗   |   ✓   |\n",
    "| $\\text{NdCl}_3$ |   ✓    |   ✓   |  ✗   |   ✓   |\n",
    "\n",
    "Which is admittedly quite sparse, but is more than sufficient to fully calculate all of the thermophysical properties of a salt of interest (so long as we don't exclude some endmembers).\n",
    "\n",
    "## Optimization Methodology\n",
    "An important consideration in the fuel sallt is the centerline temperature. In our design, since molten salt is a relatively poor conductor, the centerline can reach _very_ high temperatures, and the constraint then becomes the fuel salt melting point. The temperature profile (assuming pure conduction) is parabolic, and the centerline temperature is given by\n",
    "$$\n",
    "    T(0) = \\frac{\\dot{q}r_o^2}{4k} + T_\\infty + \\frac{\\dot{q}r_o}{2h}\\nonumber\n",
    "$$\n",
    "Where $T(0)$ is the centerline temperature, $\\dot{q}$ is the volumetric heat generation rate within the rod (our target is around 100 kW/L), $r_o$ is the outer fuel rod radius, $k$ is the fuel salt thermal conductivity, $h$ is the heat transfer coefficient from the outer rod surface to the coolant salt (which is not affected by the fuel salt), and $T_\\infty$ is the bulk coolant temperature away from the thermal boundary layer near the rod surface. From this expression, it's clear that increasing the thermal conductivity of the fuel salt and/or raising its boiling point will loosen the constraints on our design. However, we also want our fuel salt to melt at a reasonable temperature (say 800-900 K). So our goal will be to maximize the thermal conductivity while keeping the melting point below 800-900 K, and the boiling point above 2000 K."
   ]
  },
  {
   "cell_type": "markdown",
   "metadata": {},
   "source": [
    "## Actinide Composition\n",
    "The fuel composition is (representing an actinide fraction of 55 mole %): $\\text{PuCl}_3$ - $\\text{NdCl}_3$ - $\\text{UCl}_3$ ($39.8$ - $0.2$ - $15.0$ mole %) which is notably _mostly_ $\\text{PuCl}_3$, the rest of the fuel salt (45 mole %) is unconstrained. "
   ]
  },
  {
   "cell_type": "code",
   "execution_count": 4,
   "metadata": {},
   "outputs": [],
   "source": [
    "T_max = 780 # Maximum melting point\n",
    "T_min = 2000 # Minimum boiling point\n",
    "\n",
    "actinide_composition = np.array([0.398, 0.002, 0.15])\n",
    "\n",
    "def check_melting_and_boiling(x, endmembers, elements_used):\n",
    "    x = np.append(x, 0.45-sum(x))\n",
    "    x = np.append(x, actinide_composition)\n",
    "\n",
    "    # Convert from NaF to Na F (unfortunate mismatch in convention)\n",
    "    new_endmembers = [convert_to_thermochem_name(endmember) for endmember in endmembers]\n",
    "    salt = dict({endmember: x[i] for i, endmember in enumerate(new_endmembers)})\n",
    "\n",
    "    try:\n",
    "        T_m, T_b = tta.calculate_melting_and_boiling(salt, elements_used, suppress_output=True, phase_tolerance=0.9)\n",
    "        return min(T_max - T_m, T_b - T_min)\n",
    "    except:\n",
    "        # Return a large negative value to indicate that the constriaint was not satisfied\n",
    "        return -1E+06 # The supplied salt does not have a melting or boiling point in the given range (it could be that the salt sublimates)\n",
    "    \n",
    "# A constraint function which ensures that sum(x) = 1\n",
    "def constraint(x):\n",
    "    return 0.45 - np.sum(x)\n",
    "\n",
    "# Define the constraints in a format that `minimize` can use\n",
    "cons = ({'type': 'ineq', 'fun': constraint})"
   ]
  },
  {
   "cell_type": "code",
   "execution_count": 5,
   "metadata": {},
   "outputs": [],
   "source": [
    "T_f = 1/2*(T_min+T_max) # Assumed average fuel temperature in K\n",
    "\n",
    "# Define the objective function\n",
    "def objective(x, endmembers):\n",
    "    x = np.append(x, 0.45-sum(x))\n",
    "    x = np.append(x, actinide_composition)\n",
    "    salt = frozendict({endmember: x[i] for i, endmember in enumerate(endmembers)})\n",
    "    try:\n",
    "        k = db.get_tp('thermal_conductivity', salt)(T_f).nominal_value\n",
    "    except OverflowError:\n",
    "        return 1E+03\n",
    "    objective = k\n",
    "    if np.isnan(objective) or np.isinf(objective):\n",
    "        return 1E+03\n",
    "    else:\n",
    "        return -objective\n",
    "    \n",
    "endmembers = ['NaCl', 'KCl', 'AlCl3', 'ZrCl4', 'PuCl3', 'NdCl3', 'UCl3']\n",
    "elements_used = ['Cl', 'Na', 'K', 'Al', 'Zr', 'Pu', 'Nd', 'U']"
   ]
  },
  {
   "cell_type": "code",
   "execution_count": 6,
   "metadata": {},
   "outputs": [
    {
     "name": "stdout",
     "output_type": "stream",
     "text": [
      "| niter |f evals|CG iter|  obj func   |tr radius |   opt    |  c viol  | penalty  |barrier param|CG stop|\n",
      "|-------|-------|-------|-------------|----------|----------|----------|----------|-------------|-------|\n",
      "|   1   |   4   |   0   | -4.1438e-01 | 1.00e+00 | 9.02e-02 | 2.81e+01 | 2.00e+02 |  1.00e-01   |   0   |\n"
     ]
    },
    {
     "name": "stderr",
     "output_type": "stream",
     "text": [
      "\n",
      "Program received signal SIGFPE: Floating-point exception - erroneous arithmetic operation.\n",
      "\n",
      "Backtrace for this error:\n",
      "#0  0x7088f2023960 in ???\n",
      "#1  0x7088f2022ac5 in ???\n",
      "#2  0x7088f1c4251f in ???\n",
      "\tat ./signal/../sysdeps/unix/sysv/linux/x86_64/libc_sigaction.c:0\n",
      "#3  0x61e920702555 in ???\n",
      "#4  0x61e9206f7a97 in ???\n",
      "#5  0x61e920761356 in ???\n",
      "#6  0x61e9207643ef in ???\n",
      "#7  0x61e9207467d3 in ???\n",
      "#8  0x61e9206f3537 in ???\n",
      "#9  0x61e9207520f9 in ???\n",
      "#10  0x61e9206e9fdb in ???\n",
      "#11  0x61e9206e7b97 in ???\n",
      "#12  0x61e9206e63c8 in ???\n",
      "#13  0x7088f1c29d8f in __libc_start_call_main\n",
      "\tat ../sysdeps/nptl/libc_start_call_main.h:58\n",
      "#14  0x7088f1c29e3f in __libc_start_main_impl\n",
      "\tat ../csu/libc-start.c:392\n",
      "#15  0x61e9206e63f4 in ???\n",
      "#16  0xffffffffffffffff in ???\n",
      "\n",
      "Program received signal SIGFPE: Floating-point exception - erroneous arithmetic operation.\n",
      "\n",
      "Backtrace for this error:\n",
      "#0  0x750963c23960 in ???\n",
      "#1  0x750963c22ac5 in ???\n",
      "#2  0x75096384251f in ???\n",
      "\tat ./signal/../sysdeps/unix/sysv/linux/x86_64/libc_sigaction.c:0\n",
      "#3  0x59cb12e31555 in ???\n",
      "#4  0x59cb12e26a97 in ???\n",
      "#5  0x59cb12e90356 in ???\n",
      "#6  0x59cb12e933ef in ???\n",
      "#7  0x59cb12e21b99 in ???\n",
      "#8  0x59cb12e22206 in ???\n",
      "#9  0x59cb12e810f9 in ???\n",
      "#10  0x59cb12e18fdb in ???\n",
      "#11  0x59cb12e16b97 in ???\n",
      "#12  0x59cb12e153c8 in ???\n",
      "#13  0x750963829d8f in __libc_start_call_main\n",
      "\tat ../sysdeps/nptl/libc_start_call_main.h:58\n",
      "#14  0x750963829e3f in __libc_start_main_impl\n",
      "\tat ../csu/libc-start.c:392\n",
      "#15  0x59cb12e153f4 in ???\n",
      "#16  0xffffffffffffffff in ???\n"
     ]
    },
    {
     "name": "stdout",
     "output_type": "stream",
     "text": [
      "|   2   |   8   |   1   | -4.1438e-01 | 1.00e-01 | 9.02e-02 | 2.81e+01 | 2.00e+02 |  1.00e-01   |   4   |\n",
      "|   3   |  12   |   4   | -4.1438e-01 | 5.61e-01 | 9.01e-02 | 2.81e+01 | 2.00e+02 |  1.00e-01   |   1   |\n",
      "|   4   |  16   |   7   | -4.1438e-01 | 3.15e+00 | 8.91e-02 | 2.81e+01 | 2.00e+02 |  1.00e-01   |   1   |\n",
      "|   5   |  20   |  10   | -4.1438e-01 | 3.55e+00 | 8.69e-02 | 2.81e+01 | 2.00e+02 |  1.00e-01   |   1   |\n",
      "|   6   |  24   |  13   | -4.1438e-01 | 3.68e+00 | 8.25e-02 | 2.81e+01 | 2.00e+02 |  1.00e-01   |   1   |\n",
      "|   7   |  28   |  16   | -4.1438e-01 | 3.94e+00 | 7.40e-02 | 2.81e+01 | 2.00e+02 |  1.00e-01   |   1   |\n",
      "|   8   |  32   |  19   | -4.1438e-01 | 4.28e+00 | 6.07e-02 | 2.81e+01 | 2.00e+02 |  1.00e-01   |   1   |\n"
     ]
    },
    {
     "name": "stderr",
     "output_type": "stream",
     "text": [
      "\n",
      "Program received signal SIGFPE: Floating-point exception - erroneous arithmetic operation.\n",
      "\n",
      "Backtrace for this error:\n",
      "#0  0x745815023960 in ???\n",
      "#1  0x745815022ac5 in ???\n",
      "#2  0x745814c4251f in ???\n",
      "\tat ./signal/../sysdeps/unix/sysv/linux/x86_64/libc_sigaction.c:0\n",
      "#3  0x57ff677d2555 in ???\n",
      "#4  0x57ff677c7a97 in ???\n",
      "#5  0x57ff67831356 in ???\n",
      "#6  0x57ff678343ef in ???\n",
      "#7  0x57ff677c2b99 in ???\n",
      "#8  0x57ff677c3206 in ???\n",
      "#9  0x57ff678220f9 in ???\n",
      "#10  0x57ff677b9fdb in ???\n",
      "#11  0x57ff677b7b97 in ???\n",
      "#12  0x57ff677b63c8 in ???\n",
      "#13  0x745814c29d8f in __libc_start_call_main\n",
      "\tat ../sysdeps/nptl/libc_start_call_main.h:58\n",
      "#14  0x745814c29e3f in __libc_start_main_impl\n",
      "\tat ../csu/libc-start.c:392\n",
      "#15  0x57ff677b63f4 in ???\n",
      "#16  0xffffffffffffffff in ???\n"
     ]
    },
    {
     "name": "stdout",
     "output_type": "stream",
     "text": [
      "|   9   |  36   |  22   | -4.1438e-01 | 4.75e+00 | 3.99e-02 | 2.81e+01 | 2.00e+02 |  1.00e-01   |   1   |\n",
      "|  10   |  40   |  24   | -4.1438e-01 | 4.75e+00 | 2.09e-02 | 2.81e+01 | 2.00e+02 |  1.00e-01   |   4   |\n",
      "|  11   |  44   |  27   | -4.1535e-01 | 4.75e+00 | 1.94e-02 | 2.81e+01 | 1.48e+13 |  1.00e-01   |   1   |\n",
      "|  12   |  48   |  28   | -4.1535e-01 | 4.75e+00 | 1.94e-02 | 2.81e+01 | 1.48e+13 |  1.00e-01   |   4   |\n"
     ]
    },
    {
     "name": "stderr",
     "output_type": "stream",
     "text": [
      "\n",
      "Program received signal SIGFPE: Floating-point exception - erroneous arithmetic operation.\n",
      "\n",
      "Backtrace for this error:\n",
      "#0  0x752aa0423960 in ???\n",
      "#1  0x752aa0422ac5 in ???\n",
      "#2  0x752aa004251f in ???\n",
      "\tat ./signal/../sysdeps/unix/sysv/linux/x86_64/libc_sigaction.c:0\n",
      "#3  0x5abeb2296555 in ???\n",
      "#4  0x5abeb228ba97 in ???\n",
      "#5  0x5abeb22f5356 in ???\n",
      "#6  0x5abeb22f83ef in ???\n",
      "#7  0x5abeb22da7d3 in ???\n",
      "#8  0x5abeb2287537 in ???\n",
      "#9  0x5abeb22e60f9 in ???\n",
      "#10  0x5abeb227dfdb in ???\n",
      "#11  0x5abeb227bb97 in ???\n",
      "#12  0x5abeb227a3c8 in ???\n",
      "#13  0x752aa0029d8f in __libc_start_call_main\n",
      "\tat ../sysdeps/nptl/libc_start_call_main.h:58\n",
      "#14  0x752aa0029e3f in __libc_start_main_impl\n",
      "\tat ../csu/libc-start.c:392\n",
      "#15  0x5abeb227a3f4 in ???\n",
      "#16  0xffffffffffffffff in ???\n"
     ]
    },
    {
     "name": "stdout",
     "output_type": "stream",
     "text": [
      "|  13   |  52   |  31   | -4.1535e-01 | 4.75e-01 | 1.94e-02 | 2.81e+01 | 1.48e+13 |  1.00e-01   |   1   |\n",
      "|  14   |  56   |  34   | -4.1192e-01 | 3.33e+00 | 1.57e-02 | 2.83e+00 | 1.07e+15 |  1.00e-01   |   2   |\n"
     ]
    },
    {
     "name": "stderr",
     "output_type": "stream",
     "text": [
      "\n",
      "Program received signal SIGFPE: Floating-point exception - erroneous arithmetic operation.\n",
      "\n",
      "Backtrace for this error:\n",
      "#0  0x7126a8823960 in ???\n",
      "#1  0x7126a8822ac5 in ???\n",
      "#2  0x7126a844251f in ???\n",
      "\tat ./signal/../sysdeps/unix/sysv/linux/x86_64/libc_sigaction.c:0\n",
      "#3  0x616d91a24555 in ???\n",
      "#4  0x616d91a19a97 in ???\n",
      "#5  0x616d91a83356 in ???\n",
      "#6  0x616d91a863ef in ???\n",
      "#7  0x616d91a14b99 in ???\n",
      "#8  0x616d91a15206 in ???\n",
      "#9  0x616d91a740f9 in ???\n",
      "#10  0x616d91a0bfdb in ???\n",
      "#11  0x616d91a09b97 in ???\n",
      "#12  0x616d91a083c8 in ???\n",
      "#13  0x7126a8429d8f in __libc_start_call_main\n",
      "\tat ../sysdeps/nptl/libc_start_call_main.h:58\n",
      "#14  0x7126a8429e3f in __libc_start_main_impl\n",
      "\tat ../csu/libc-start.c:392\n",
      "#15  0x616d91a083f4 in ???\n",
      "#16  0xffffffffffffffff in ???\n"
     ]
    },
    {
     "name": "stdout",
     "output_type": "stream",
     "text": [
      "|  15   |  60   |  37   | -4.1024e-01 | 4.47e+00 | 1.64e-02 | 2.83e+00 | 1.07e+15 |  1.00e-01   |   1   |\n",
      "|  16   |  64   |  40   | -4.1024e-01 | 4.47e+00 | 9.77e-03 | 2.83e+00 | 1.07e+15 |  1.00e-01   |   1   |\n",
      "|  17   |  68   |  43   | -4.1024e-01 | 4.47e-01 | 9.77e-03 | 2.83e+00 | 1.07e+15 |  1.00e-01   |   1   |\n",
      "|  18   |  72   |  46   | -4.1024e-01 | 4.47e-02 | 9.77e-03 | 2.83e+00 | 1.07e+15 |  1.00e-01   |   1   |\n",
      "|  19   |  76   |  47   | -4.1024e-01 | 4.47e-03 | 9.77e-03 | 2.83e+00 | 1.07e+15 |  1.00e-01   |   2   |\n",
      "|  20   |  80   |  48   | -4.1013e-01 | 3.13e-02 | 9.71e-03 | 2.83e+00 | 6.09e+27 |  1.00e-01   |   2   |\n",
      "|  21   |  84   |  49   | -4.0962e-01 | 2.19e-01 | 9.46e-03 | 2.83e+00 | 1.43e+28 |  1.00e-01   |   2   |\n"
     ]
    },
    {
     "name": "stderr",
     "output_type": "stream",
     "text": [
      "\n",
      "Program received signal SIGFPE: Floating-point exception - erroneous arithmetic operation.\n",
      "\n",
      "Backtrace for this error:\n",
      "#0  0x71dd01e23960 in ???\n",
      "#1  0x71dd01e22ac5 in ???\n",
      "#2  0x71dd01a4251f in ???\n",
      "\tat ./signal/../sysdeps/unix/sysv/linux/x86_64/libc_sigaction.c:0\n",
      "#3  0x5d901a8a8555 in ???\n",
      "#4  0x5d901a89da97 in ???\n",
      "#5  0x5d901a907356 in ???\n",
      "#6  0x5d901a90a3ef in ???\n",
      "#7  0x5d901a898b99 in ???\n",
      "#8  0x5d901a899206 in ???\n",
      "#9  0x5d901a8f80f9 in ???\n",
      "#10  0x5d901a88ffdb in ???\n",
      "#11  0x5d901a88db97 in ???\n",
      "#12  0x5d901a88c3c8 in ???\n",
      "#13  0x71dd01a29d8f in __libc_start_call_main\n",
      "\tat ../sysdeps/nptl/libc_start_call_main.h:58\n",
      "#14  0x71dd01a29e3f in __libc_start_main_impl\n",
      "\tat ../csu/libc-start.c:392\n",
      "#15  0x5d901a88c3f4 in ???\n",
      "#16  0xffffffffffffffff in ???\n"
     ]
    },
    {
     "name": "stdout",
     "output_type": "stream",
     "text": [
      "|  22   |  88   |  52   | -4.1288e-01 | 1.34e+00 | 6.53e-03 | 2.83e+00 | 1.43e+28 |  1.00e-01   |   1   |\n",
      "|  23   |  92   |  53   | -4.1288e-01 | 1.34e-01 | 6.53e-03 | 2.83e+00 | 1.43e+28 |  1.00e-01   |   4   |\n",
      "|  24   |  96   |  54   | -4.1288e-01 | 1.34e-02 | 6.53e-03 | 2.83e+00 | 1.43e+28 |  1.00e-01   |   4   |\n"
     ]
    },
    {
     "name": "stderr",
     "output_type": "stream",
     "text": [
      "\n",
      "Program received signal SIGFPE: Floating-point exception - erroneous arithmetic operation.\n",
      "\n",
      "Backtrace for this error:\n",
      "#0  0x701fb6a23960 in ???\n",
      "#1  0x701fb6a22ac5 in ???\n",
      "#2  0x701fb664251f in ???\n",
      "\tat ./signal/../sysdeps/unix/sysv/linux/x86_64/libc_sigaction.c:0\n",
      "#3  0x5f40229a8555 in ???\n",
      "#4  0x5f402299da97 in ???\n",
      "#5  0x5f4022a07356 in ???\n",
      "#6  0x5f4022a0a3ef in ???\n",
      "#7  0x5f40229ec7d3 in ???\n",
      "#8  0x5f4022999537 in ???\n",
      "#9  0x5f40229f80f9 in ???\n",
      "#10  0x5f402298ffdb in ???\n",
      "#11  0x5f402298db97 in ???\n",
      "#12  0x5f402298c3c8 in ???\n",
      "#13  0x701fb6629d8f in __libc_start_call_main\n",
      "\tat ../sysdeps/nptl/libc_start_call_main.h:58\n",
      "#14  0x701fb6629e3f in __libc_start_main_impl\n",
      "\tat ../csu/libc-start.c:392\n",
      "#15  0x5f402298c3f4 in ???\n",
      "#16  0xffffffffffffffff in ???\n"
     ]
    },
    {
     "name": "stdout",
     "output_type": "stream",
     "text": [
      "|  25   |  100  |  55   | -4.1299e-01 | 1.34e-02 | 1.02e-02 | 2.83e+00 | 1.43e+28 |  1.00e-01   |   4   |\n"
     ]
    },
    {
     "name": "stderr",
     "output_type": "stream",
     "text": [
      "\n",
      "Program received signal SIGFPE: Floating-point exception - erroneous arithmetic operation.\n",
      "\n",
      "Backtrace for this error:\n",
      "#0  0x70223f623960 in ???\n",
      "#1  0x70223f622ac5 in ???\n",
      "#2  0x70223f24251f in ???\n",
      "\tat ./signal/../sysdeps/unix/sysv/linux/x86_64/libc_sigaction.c:0\n",
      "#3  0x6513dc09f555 in ???\n",
      "#4  0x6513dc094a97 in ???\n",
      "#5  0x6513dc0fe356 in ???\n",
      "#6  0x6513dc1013ef in ???\n",
      "#7  0x6513dc08fb99 in ???\n",
      "#8  0x6513dc090206 in ???\n",
      "#9  0x6513dc0ef0f9 in ???\n",
      "#10  0x6513dc086fdb in ???\n",
      "#11  0x6513dc084b97 in ???\n",
      "#12  0x6513dc0833c8 in ???\n",
      "#13  0x70223f229d8f in __libc_start_call_main\n",
      "\tat ../sysdeps/nptl/libc_start_call_main.h:58\n",
      "#14  0x70223f229e3f in __libc_start_main_impl\n",
      "\tat ../csu/libc-start.c:392\n",
      "#15  0x6513dc0833f4 in ???\n",
      "#16  0xffffffffffffffff in ???\n"
     ]
    },
    {
     "name": "stdout",
     "output_type": "stream",
     "text": [
      "|  26   |  104  |  56   | -4.1311e-01 | 1.34e-02 | 1.01e-02 | 2.83e+00 | 1.43e+28 |  1.00e-01   |   4   |\n",
      "|  27   |  108  |  57   | -4.1322e-01 | 1.34e-02 | 7.99e-03 | 2.83e+00 | 1.43e+28 |  1.00e-01   |   4   |\n",
      "|  28   |  112  |  58   | -4.1238e-01 | 9.37e-02 | 7.94e-03 | 2.83e+00 | 7.50e+28 |  1.00e-01   |   2   |\n",
      "|  29   |  116  |  60   | -4.1238e-01 | 9.37e-03 | 7.94e-03 | 2.83e+00 | 7.50e+28 |  1.00e-01   |   2   |\n"
     ]
    },
    {
     "name": "stderr",
     "output_type": "stream",
     "text": [
      "\n",
      "Program received signal SIGFPE: Floating-point exception - erroneous arithmetic operation.\n",
      "\n",
      "Backtrace for this error:\n",
      "#0  0x7341a3a23960 in ???\n",
      "#1  0x7341a3a22ac5 in ???\n",
      "#2  0x7341a364251f in ???\n",
      "\tat ./signal/../sysdeps/unix/sysv/linux/x86_64/libc_sigaction.c:0\n",
      "#3  0x5af8e2071555 in ???\n",
      "#4  0x5af8e2066a97 in ???\n",
      "#5  0x5af8e20d0356 in ???\n",
      "#6  0x5af8e20d33ef in ???\n",
      "#7  0x5af8e20b57d3 in ???\n",
      "#8  0x5af8e2062537 in ???\n",
      "#9  0x5af8e20c10f9 in ???\n",
      "#10  0x5af8e2058fdb in ???\n",
      "#11  0x5af8e2056b97 in ???\n",
      "#12  0x5af8e20553c8 in ???\n",
      "#13  0x7341a3629d8f in __libc_start_call_main\n",
      "\tat ../sysdeps/nptl/libc_start_call_main.h:58\n",
      "#14  0x7341a3629e3f in __libc_start_main_impl\n",
      "\tat ../csu/libc-start.c:392\n",
      "#15  0x5af8e20553f4 in ???\n",
      "#16  0xffffffffffffffff in ???\n"
     ]
    },
    {
     "name": "stdout",
     "output_type": "stream",
     "text": [
      "|  30   |  120  |  61   | -4.1278e-01 | 6.56e-02 | 9.94e-03 | 2.83e+00 | 7.50e+28 |  1.00e-01   |   2   |\n",
      "|  31   |  124  |  62   | -4.1342e-01 | 6.56e-02 | 7.26e-03 | 2.83e+00 | 7.50e+28 |  1.00e-01   |   4   |\n",
      "|  32   |  128  |  63   | -4.1342e-01 | 6.56e-03 | 7.26e-03 | 2.83e+00 | 7.50e+28 |  1.00e-01   |   2   |\n",
      "|  33   |  132  |  64   | -4.1327e-01 | 4.59e-02 | 7.23e-03 | 2.83e+00 | 7.50e+28 |  1.00e-01   |   2   |\n",
      "|  34   |  136  |  65   | -4.1327e-01 | 4.59e-03 | 7.23e-03 | 2.83e+00 | 7.50e+28 |  1.00e-01   |   2   |\n",
      "|  35   |  140  |  66   | -4.1337e-01 | 3.21e-02 | 7.17e-03 | 2.83e+00 | 7.50e+28 |  1.00e-01   |   2   |\n",
      "|  36   |  144  |  67   | -4.1393e-01 | 2.25e-01 | 6.75e-03 | 2.83e+00 | 7.50e+28 |  1.00e-01   |   2   |\n",
      "|  37   |  148  |  68   | -4.1393e-01 | 2.25e-02 | 6.75e-03 | 2.83e+00 | 7.50e+28 |  1.00e-01   |   2   |\n",
      "|  38   |  152  |  69   | -4.1422e-01 | 1.57e-01 | 6.47e-03 | 2.83e+00 | 7.50e+28 |  1.00e-01   |   2   |\n",
      "|  39   |  156  |  70   | -4.1422e-01 | 1.57e-02 | 6.47e-03 | 2.83e+00 | 7.50e+28 |  1.00e-01   |   2   |\n",
      "|  40   |  160  |  71   | -4.1422e-01 | 1.57e-03 | 6.47e-03 | 2.83e+00 | 7.50e+28 |  1.00e-01   |   2   |\n",
      "|  41   |  164  |  72   | -4.1426e-01 | 1.10e-02 | 6.45e-03 | 2.83e+00 | 7.50e+28 |  1.00e-01   |   2   |\n",
      "|  42   |  168  |  73   | -4.1426e-01 | 1.10e-03 | 6.45e-03 | 2.83e+00 | 7.50e+28 |  1.00e-01   |   2   |\n",
      "|  43   |  172  |  74   | -4.1426e-01 | 1.10e-04 | 6.45e-03 | 2.83e+00 | 7.50e+28 |  1.00e-01   |   2   |\n",
      "|  44   |  176  |  74   | -4.1426e-01 | 1.00e+00 | 7.42e-03 | 2.83e+00 | 2.00e+02 |  2.00e-02   |   0   |\n",
      "|  45   |  180  |  77   | -4.1426e-01 | 1.00e-01 | 7.42e-03 | 2.83e+00 | 2.00e+02 |  2.00e-02   |   1   |\n",
      "|  46   |  184  |  78   | -4.1426e-01 | 1.00e-02 | 7.42e-03 | 2.83e+00 | 2.00e+02 |  2.00e-02   |   2   |\n",
      "|  47   |  188  |  79   | -4.1426e-01 | 1.00e-03 | 7.42e-03 | 2.83e+00 | 2.00e+02 |  2.00e-02   |   2   |\n",
      "|  48   |  192  |  80   | -4.1426e-01 | 1.00e-04 | 7.42e-03 | 2.83e+00 | 2.00e+02 |  2.00e-02   |   2   |\n",
      "|  49   |  196  |  80   | -4.1426e-01 | 1.00e+00 | 7.61e-03 | 2.83e+00 | 2.00e+02 |  4.00e-03   |   0   |\n",
      "|  50   |  200  |  83   | -4.1426e-01 | 1.00e-01 | 7.61e-03 | 2.83e+00 | 2.00e+02 |  4.00e-03   |   1   |\n",
      "|  51   |  204  |  84   | -4.1426e-01 | 1.00e-02 | 7.61e-03 | 2.83e+00 | 2.00e+02 |  4.00e-03   |   2   |\n",
      "|  52   |  208  |  85   | -4.1426e-01 | 1.00e-03 | 7.61e-03 | 2.83e+00 | 2.00e+02 |  4.00e-03   |   2   |\n",
      "|  53   |  212  |  86   | -4.1426e-01 | 1.00e-04 | 7.61e-03 | 2.83e+00 | 2.00e+02 |  4.00e-03   |   2   |\n",
      "|  54   |  216  |  86   | -4.1426e-01 | 1.00e+00 | 7.70e-03 | 2.83e+00 | 2.00e+02 |  8.00e-04   |   0   |\n",
      "|  55   |  220  |  89   | -4.1426e-01 | 1.00e-01 | 7.70e-03 | 2.83e+00 | 2.00e+02 |  8.00e-04   |   1   |\n",
      "|  56   |  224  |  90   | -4.1426e-01 | 1.00e-02 | 7.70e-03 | 2.83e+00 | 2.00e+02 |  8.00e-04   |   2   |\n",
      "|  57   |  228  |  91   | -4.1426e-01 | 1.00e-03 | 7.70e-03 | 2.83e+00 | 2.00e+02 |  8.00e-04   |   2   |\n",
      "|  58   |  232  |  92   | -4.1426e-01 | 1.00e-04 | 7.70e-03 | 2.83e+00 | 2.00e+02 |  8.00e-04   |   2   |\n",
      "|  59   |  236  |  92   | -4.1426e-01 | 1.00e+00 | 7.78e-03 | 2.83e+00 | 2.00e+02 |  1.60e-04   |   0   |\n",
      "|  60   |  240  |  95   | -4.1426e-01 | 1.00e-01 | 7.78e-03 | 2.83e+00 | 2.00e+02 |  1.60e-04   |   1   |\n",
      "|  61   |  244  |  96   | -4.1426e-01 | 1.00e-02 | 7.78e-03 | 2.83e+00 | 2.00e+02 |  1.60e-04   |   2   |\n",
      "|  62   |  248  |  97   | -4.1426e-01 | 1.00e-03 | 7.78e-03 | 2.83e+00 | 2.00e+02 |  1.60e-04   |   2   |\n",
      "|  63   |  252  |  98   | -4.1426e-01 | 1.00e-04 | 7.78e-03 | 2.83e+00 | 2.00e+02 |  1.60e-04   |   2   |\n",
      "|  64   |  256  |  98   | -4.1426e-01 | 1.00e+00 | 7.79e-03 | 2.83e+00 | 2.00e+02 |  3.20e-05   |   0   |\n",
      "|  65   |  260  |  101  | -4.1426e-01 | 1.00e-01 | 7.79e-03 | 2.83e+00 | 2.00e+02 |  3.20e-05   |   1   |\n",
      "|  66   |  264  |  102  | -4.1426e-01 | 1.00e-02 | 7.79e-03 | 2.83e+00 | 2.00e+02 |  3.20e-05   |   2   |\n",
      "|  67   |  268  |  103  | -4.1426e-01 | 1.00e-03 | 7.79e-03 | 2.83e+00 | 2.00e+02 |  3.20e-05   |   2   |\n",
      "|  68   |  272  |  104  | -4.1426e-01 | 1.00e-04 | 7.79e-03 | 2.83e+00 | 2.00e+02 |  3.20e-05   |   2   |\n",
      "|  69   |  276  |  104  | -4.1426e-01 | 1.00e+00 | 7.80e-03 | 2.83e+00 | 2.00e+02 |  6.40e-06   |   0   |\n",
      "|  70   |  280  |  107  | -4.1426e-01 | 1.00e-01 | 7.80e-03 | 2.83e+00 | 2.00e+02 |  6.40e-06   |   1   |\n",
      "|  71   |  284  |  108  | -4.1426e-01 | 1.00e-02 | 7.80e-03 | 2.83e+00 | 2.00e+02 |  6.40e-06   |   2   |\n",
      "|  72   |  288  |  109  | -4.1426e-01 | 1.00e-03 | 7.80e-03 | 2.83e+00 | 2.00e+02 |  6.40e-06   |   2   |\n",
      "|  73   |  292  |  110  | -4.1426e-01 | 1.00e-04 | 7.80e-03 | 2.83e+00 | 2.00e+02 |  6.40e-06   |   2   |\n",
      "|  74   |  296  |  110  | -4.1426e-01 | 1.00e+00 | 7.80e-03 | 2.83e+00 | 2.00e+02 |  1.28e-06   |   0   |\n",
      "|  75   |  300  |  113  | -4.1426e-01 | 1.00e-01 | 7.80e-03 | 2.83e+00 | 2.00e+02 |  1.28e-06   |   1   |\n",
      "|  76   |  304  |  114  | -4.1426e-01 | 1.00e-02 | 7.80e-03 | 2.83e+00 | 2.00e+02 |  1.28e-06   |   2   |\n",
      "|  77   |  308  |  115  | -4.1426e-01 | 1.00e-03 | 7.80e-03 | 2.83e+00 | 2.00e+02 |  1.28e-06   |   2   |\n",
      "|  78   |  312  |  116  | -4.1426e-01 | 1.00e-04 | 7.80e-03 | 2.83e+00 | 2.00e+02 |  1.28e-06   |   2   |\n",
      "|  79   |  316  |  116  | -4.1426e-01 | 1.00e+00 | 7.80e-03 | 2.83e+00 | 2.00e+02 |  2.56e-07   |   0   |\n",
      "|  80   |  320  |  119  | -4.1426e-01 | 1.00e-01 | 7.80e-03 | 2.83e+00 | 2.00e+02 |  2.56e-07   |   1   |\n",
      "|  81   |  324  |  120  | -4.1426e-01 | 1.00e-02 | 7.80e-03 | 2.83e+00 | 2.00e+02 |  2.56e-07   |   2   |\n",
      "|  82   |  328  |  121  | -4.1426e-01 | 1.00e-03 | 7.80e-03 | 2.83e+00 | 2.00e+02 |  2.56e-07   |   2   |\n",
      "|  83   |  332  |  122  | -4.1426e-01 | 1.00e-04 | 7.80e-03 | 2.83e+00 | 2.00e+02 |  2.56e-07   |   2   |\n",
      "|  84   |  336  |  122  | -4.1426e-01 | 1.00e+00 | 7.80e-03 | 2.83e+00 | 2.00e+02 |  5.12e-08   |   0   |\n",
      "|  85   |  340  |  125  | -4.1426e-01 | 1.00e-01 | 7.80e-03 | 2.83e+00 | 2.00e+02 |  5.12e-08   |   1   |\n",
      "|  86   |  344  |  126  | -4.1426e-01 | 1.00e-02 | 7.80e-03 | 2.83e+00 | 2.00e+02 |  5.12e-08   |   2   |\n",
      "|  87   |  348  |  127  | -4.1426e-01 | 1.00e-03 | 7.80e-03 | 2.83e+00 | 2.00e+02 |  5.12e-08   |   2   |\n",
      "|  88   |  352  |  128  | -4.1426e-01 | 1.00e-04 | 7.80e-03 | 2.83e+00 | 2.00e+02 |  5.12e-08   |   2   |\n",
      "|  89   |  356  |  128  | -4.1426e-01 | 1.00e+00 | 7.80e-03 | 2.83e+00 | 2.00e+02 |  1.02e-08   |   0   |\n",
      "|  90   |  360  |  131  | -4.1426e-01 | 1.00e-01 | 7.80e-03 | 2.83e+00 | 2.00e+02 |  1.02e-08   |   1   |\n",
      "|  91   |  364  |  132  | -4.1426e-01 | 1.00e-02 | 7.80e-03 | 2.83e+00 | 2.00e+02 |  1.02e-08   |   2   |\n",
      "|  92   |  368  |  133  | -4.1426e-01 | 1.00e-03 | 7.80e-03 | 2.83e+00 | 2.00e+02 |  1.02e-08   |   2   |\n",
      "|  93   |  372  |  134  | -4.1426e-01 | 1.00e-04 | 7.80e-03 | 2.83e+00 | 2.00e+02 |  1.02e-08   |   2   |\n",
      "|  94   |  376  |  134  | -4.1426e-01 | 1.00e+00 | 7.80e-03 | 2.83e+00 | 2.00e+02 |  2.05e-09   |   0   |\n",
      "|  95   |  380  |  137  | -4.1426e-01 | 1.00e-01 | 7.80e-03 | 2.83e+00 | 2.00e+02 |  2.05e-09   |   1   |\n",
      "|  96   |  384  |  138  | -4.1426e-01 | 1.00e-02 | 7.80e-03 | 2.83e+00 | 2.00e+02 |  2.05e-09   |   2   |\n",
      "|  97   |  388  |  139  | -4.1426e-01 | 1.00e-03 | 7.80e-03 | 2.83e+00 | 2.00e+02 |  2.05e-09   |   2   |\n",
      "|  98   |  392  |  140  | -4.1426e-01 | 1.00e-04 | 7.80e-03 | 2.83e+00 | 2.00e+02 |  2.05e-09   |   2   |\n",
      "\n",
      "`xtol` termination condition is satisfied.\n",
      "Number of iterations: 98, function evaluations: 392, CG iterations: 140, optimality: 7.80e-03, constraint violation: 2.83e+00, execution time: 1.6e+04 s.\n"
     ]
    }
   ],
   "source": [
    "# Define the constraints in a format that `minimize` can use\n",
    "cons = ({'type': 'ineq', 'fun': constraint}, \\\n",
    "        {'type': 'ineq', 'fun': check_melting_and_boiling, 'args': (endmembers, elements_used)})\n",
    "\n",
    "guess = [0.25, 0.14, 0.01] # An initial guess salt composition\n",
    "bounds = [(0.001, 1), (0.001, 1), (0.001, 1)]\n",
    " \n",
    "# Now minimize the objective function\n",
    "result = minimize(\n",
    "    objective, \n",
    "    guess, \n",
    "    method='trust-constr',  # Using a different optimization method\n",
    "    jac='2-point',          # Finite difference approximation if you do not provide a gradient\n",
    "    constraints=cons,\n",
    "    bounds=bounds,\n",
    "    options={\n",
    "        'verbose': 3, \n",
    "        'gtol': 1e-3, \n",
    "        'xtol': 1e-3, \n",
    "        'maxiter': 200,\n",
    "        'initial_constr_penalty': 200.0,\n",
    "        'initial_tr_radius': 1.0,\n",
    "        'initial_barrier_tolerance': 0.1\n",
    "    },\n",
    "    args=endmembers\n",
    ")"
   ]
  },
  {
   "cell_type": "code",
   "execution_count": 7,
   "metadata": {},
   "outputs": [
    {
     "data": {
      "text/plain": [
       "           message: `xtol` termination condition is satisfied.\n",
       "           success: True\n",
       "            status: 2\n",
       "               fun: -0.41426248772524044\n",
       "                 x: [ 2.517e-01  1.415e-01  3.914e-02]\n",
       "               nit: 98\n",
       "              nfev: 392\n",
       "              njev: 98\n",
       "              nhev: 0\n",
       "          cg_niter: 140\n",
       "      cg_stop_cond: 2\n",
       "              grad: [-1.209e-01  2.150e-01  0.000e+00]\n",
       "   lagrangian_grad: [-7.797e-03  7.658e-03  8.752e-05]\n",
       "            constr: [array([ 1.761e-02]), array([-2.828e+00]), array([ 2.517e-01,  1.415e-01,  3.914e-02])]\n",
       "               jac: [array([[-1.000e+00, -1.000e+00, -1.000e+00]]), array([[ 0.000e+00,  0.000e+00,  0.000e+00]]), array([[ 1.000e+00,  0.000e+00,  0.000e+00],\n",
       "                           [ 0.000e+00,  1.000e+00,  0.000e+00],\n",
       "                           [ 0.000e+00,  0.000e+00,  1.000e+00]])]\n",
       "       constr_nfev: [392, 392, 0]\n",
       "       constr_njev: [0, 0, 0]\n",
       "       constr_nhev: [0, 0, 0]\n",
       "                 v: [array([-1.009e-02]), array([-1.931e-06]), array([ 1.030e-01, -2.175e-01, -1.000e-02])]\n",
       "            method: tr_interior_point\n",
       "        optimality: 0.00779697514913838\n",
       "  constr_violation: 2.828282828282795\n",
       "    execution_time: 16364.343877792358\n",
       "         tr_radius: 0.00010000000000000003\n",
       "    constr_penalty: 200.0\n",
       " barrier_parameter: 2.048000000000001e-09\n",
       " barrier_tolerance: 2.048000000000001e-09\n",
       "             niter: 98"
      ]
     },
     "execution_count": 7,
     "metadata": {},
     "output_type": "execute_result"
    }
   ],
   "source": [
    "result"
   ]
  },
  {
   "cell_type": "markdown",
   "metadata": {},
   "source": [
    "So the optimum is $\\text{NaCl}$ - $\\text{KCl}$ - $\\text{AlCl}_3$ - $\\text{ZrCl}_4$ - $\\text{PuCl}_3$ - $\\text{NdCl}_3$ - $\\text{UCl}_3$ ( $25.2$ - $14.1$ - $3.9$ - $2.0$ - $39.8$ - $0.2$ - $15.0$ mole %)"
   ]
  },
  {
   "cell_type": "code",
   "execution_count": 8,
   "metadata": {},
   "outputs": [
    {
     "name": "stdout",
     "output_type": "stream",
     "text": [
      "Thermochimica calculation initiated.\n"
     ]
    },
    {
     "name": "stdout",
     "output_type": "stream",
     "text": [
      "Thermochimica calculation finished.\n"
     ]
    },
    {
     "data": {
      "text/plain": [
       "(788.5906040268457, 2164.4295302013425)"
      ]
     },
     "execution_count": 8,
     "metadata": {},
     "output_type": "execute_result"
    }
   ],
   "source": [
    "test_composition = {'Na Cl': 0.25, 'K Cl': 0.141, 'Zr Cl_4': 0.04, 'Pu Cl_3': 0.398, 'Nd Cl_3': 0.002, 'U Cl_3': 0.15}\n",
    "tta.calculate_melting_and_boiling(test_composition, elements_used, ntstep=150)"
   ]
  },
  {
   "cell_type": "code",
   "execution_count": 10,
   "metadata": {},
   "outputs": [
    {
     "data": {
      "image/png": "[encoded data removed]",
      "text/plain": [
       "<Figure size 640x480 with 1 Axes>"
      ]
     },
     "metadata": {},
     "output_type": "display_data"
    }
   ],
   "source": [
    "output = tta.thermoOut(default=True)\n",
    "temperatures = output.temperatures.values()\n",
    "mole_fraction_liquid = output.get_phase_fraction('MSCL')\n",
    "mole_fraction_liquid_3 = output.get_phase_fraction('MSCL#3')\n",
    "mole_fraction_gas = output.get_phase_fraction('gas_ideal')\n",
    "\n",
    "plt.plot(temperatures, np.array(mole_fraction_liquid) + np.array(mole_fraction_liquid_3), label='MSCL')\n",
    "plt.plot(temperatures, mole_fraction_liquid_3, label='MSCL #3')\n",
    "plt.plot(temperatures, mole_fraction_gas, label='Gas')\n",
    "plt.xlabel('Temperature (K)')\n",
    "plt.ylabel('Mole Fraction of Phase')\n",
    "plt.grid()\n",
    "plt.legend()\n",
    "plt.show()"
   ]
  },
  {
   "cell_type": "code",
   "execution_count": null,
   "metadata": {},
   "outputs": [],
   "source": []
  }
 ],
 "metadata": {
  "kernelspec": {
   "display_name": "base",
   "language": "python",
   "name": "python3"
  },
  "language_info": {
   "codemirror_mode": {
    "name": "ipython",
    "version": 3
   },
   "file_extension": ".py",
   "mimetype": "text/x-python",
   "name": "python",
   "nbconvert_exporter": "python",
   "pygments_lexer": "ipython3",
   "version": "3.11.8"
  }
 },
 "nbformat": 4,
 "nbformat_minor": 2
}

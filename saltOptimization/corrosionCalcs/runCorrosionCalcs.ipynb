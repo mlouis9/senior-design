{
 "cells": [
  {
   "cell_type": "code",
   "execution_count": 98,
   "metadata": {},
   "outputs": [],
   "source": [
    "import thermoToolsAdditions as tta\n",
    "\n",
    "calc = tta.thermoOut('outputs/corrZr1.json')"
   ]
  },
  {
   "cell_type": "code",
   "execution_count": 99,
   "metadata": {},
   "outputs": [
    {
     "data": {
      "text/plain": [
       "{'1': 0.005538290327791685,\n",
       " '2': 0.005536233972291541,\n",
       " '3': 0.005533703257071094,\n",
       " '4': 0.005530664344041981,\n",
       " '5': 0.005527102058776062,\n",
       " '6': 0.005522938793995216,\n",
       " '7': 0.0055183123484769305,\n",
       " '8': 0.005513321286739689,\n",
       " '9': 0.00550809996064764,\n",
       " '10': 0.005502813187053636,\n",
       " '11': 0.005497649021785486}"
      ]
     },
     "execution_count": 99,
     "metadata": {},
     "output_type": "execute_result"
    }
   ],
   "source": [
    "calc.solution_fraction_element['Zr']"
   ]
  },
  {
   "cell_type": "code",
   "execution_count": 36,
   "metadata": {},
   "outputs": [],
   "source": [
    "calc = tta.thermoOut('outputs/corrZr1.0E-04.json')"
   ]
  },
  {
   "cell_type": "code",
   "execution_count": 41,
   "metadata": {},
   "outputs": [
    {
     "data": {
      "text/plain": [
       "{'1': [('MSCL', 0.1922923870413644),\n",
       "  ('P63_M', 0.0),\n",
       "  ('Fe_bcc(s)', 0.807707612958637),\n",
       "  ('Ni_Solid_FCC(s)', 0.0),\n",
       "  ('K2PuCl5_S1(s)', 0.0)],\n",
       " '2': [('MSCL', 0.19002139982185834),\n",
       "  ('Fe_bcc(s)', 0.8099786001781424),\n",
       "  ('Ni_Solid_FCC(s)', 0.0)],\n",
       " '3': [('MSCL', 0.19044315834817263),\n",
       "  ('Fe_bcc(s)', 0.8095568416518262),\n",
       "  ('Ni_Solid_FCC(s)', 0.0)],\n",
       " '4': [('MSCL', 0.19089838580410343),\n",
       "  ('Fe_bcc(s)', 0.8091016141958977),\n",
       "  ('Ni_Solid_FCC(s)', 0.0)],\n",
       " '5': [('MSCL', 0.1913790743082223),\n",
       "  ('Fe_bcc(s)', 0.808620925691779),\n",
       "  ('Ni_Solid_FCC(s)', 0.0)],\n",
       " '6': [('MSCL', 0.19187577039355674),\n",
       "  ('Fe_bcc(s)', 0.8081242296064421),\n",
       "  ('Ni_Solid_FCC(s)', 0.0)],\n",
       " '7': [('MSCL', 0.1923781098970101),\n",
       "  ('Fe_bcc(s)', 0.8076218901029902),\n",
       "  ('Ni_Solid_FCC(s)', 0.0)],\n",
       " '8': [('MSCL', 0.19287781655287956),\n",
       "  ('Fe_bcc(s)', 0.8071221834471214),\n",
       "  ('Ni_Solid_FCC(s)', 0.0)],\n",
       " '9': [('gas_ideal', 3.6445610942577445e-08),\n",
       "  ('MSCL', 0.19337332219206474),\n",
       "  ('Fe_bcc(s)', 0.8066266413623239),\n",
       "  ('Ni_Solid_FCC(s)', 0.0)],\n",
       " '10': [('gas_ideal', 3.032966774581566e-06),\n",
       "  ('MSCL', 0.19385830697238468),\n",
       "  ('Fe_bcc(s)', 0.8061386600608368),\n",
       "  ('Ni_Solid_FCC(s)', 0.0)],\n",
       " '11': [('gas_ideal', 1.1029462367286696e-05),\n",
       "  ('MSCL', 0.19431925978670328),\n",
       "  ('Fe_fcc(s2)', 0.8056697107509305),\n",
       "  ('Ni_Solid_FCC(s)', 0.0)],\n",
       " '12': [('gas_ideal', 3.2601876735455694e-05),\n",
       "  ('MSCL', 0.1947542482039735),\n",
       "  ('Fe_fcc(s2)', 0.8052131499192955),\n",
       "  ('Ni_Solid_FCC(s)', 0.0)],\n",
       " '13': [('gas_ideal', 0.00010451613765066149),\n",
       "  ('MSCL', 0.1951230988148554),\n",
       "  ('Fe_fcc(s2)', 0.8047723850474948),\n",
       "  ('Ni_Solid_FCC(s)', 0.0)],\n",
       " '14': [('gas_ideal', 0.0005937014090022766),\n",
       "  ('MSCL', 0.19503624613257134),\n",
       "  ('Fe_fcc(s2)', 0.8043700524584274),\n",
       "  ('Ni_Solid_FCC(s)', 0.0)],\n",
       " '15': [('gas_ideal', 0.0038209146225908607),\n",
       "  ('MSCL', 0.19204582304920337),\n",
       "  ('Fe_fcc(s2)', 0.8041332623282073),\n",
       "  ('Ni_Solid_FCC(s)', 0.0)],\n",
       " '16': [('gas_ideal', 0.011870130702398103),\n",
       "  ('MSCL', 0.18394691309580002),\n",
       "  ('Fe_fcc(s2)', 0.8041829562018017),\n",
       "  ('Ni_Solid_FCC(s)', 0.0)],\n",
       " '17': [('gas_ideal', 0.03195403746100947),\n",
       "  ('MSCL', 0.16312934045921104),\n",
       "  ('Fe_fcc(s2)', 0.8049166220797799),\n",
       "  ('Ni_Solid_FCC(s)', 0.0)],\n",
       " '18': [('gas_ideal', 0.07776521074414844),\n",
       "  ('MSCL', 0.1152449154776777),\n",
       "  ('Fe_fcc(s2)', 0.8069898737781727),\n",
       "  ('Ni_Solid_FCC(s)', 0.0)],\n",
       " '19': [('gas_ideal', 0.138909484202412),\n",
       "  ('MSCL', 0.051332270430670006),\n",
       "  ('Fe_fcc(s2)', 0.8097582453669162),\n",
       "  ('Ni_Solid_FCC(s)', 0.0)],\n",
       " '20': [('gas_ideal', 0.17153642620561646),\n",
       "  ('MSCL', 0.017359052728657585),\n",
       "  ('Fe_fcc(s2)', 0.8111045210657226),\n",
       "  ('Ni_Solid_FCC(s)', 0.0)],\n",
       " '21': [('gas_ideal', 0.17879856127713453),\n",
       "  ('MSCL', 0.010144564661659201),\n",
       "  ('Fe_bcc(s)', 0.8110568740612084),\n",
       "  ('Ni_Solid_FCC(s)', 0.0)]}"
      ]
     },
     "execution_count": 41,
     "metadata": {},
     "output_type": "execute_result"
    }
   ],
   "source": [
    "calc.mole_fraction_element_by_phase['Fe']"
   ]
  },
  {
   "cell_type": "code",
   "execution_count": 43,
   "metadata": {},
   "outputs": [
    {
     "data": {
      "text/plain": [
       "{'1': 0.9999999999999948,\n",
       " '2': 0.9999999999999989,\n",
       " '3': 0.9999999999999987,\n",
       " '4': 1.0000000000000009,\n",
       " '5': 1.000000000000002,\n",
       " '6': 1.0000000000000002,\n",
       " '7': 1.000000000000002,\n",
       " '8': 0.9999999999999931,\n",
       " '9': 1.0000000000000036,\n",
       " '10': 0.9999999999999867,\n",
       " '11': 0.999999999999989,\n",
       " '12': 1.0000000000000002,\n",
       " '13': 1.000000000000005,\n",
       " '14': 1.0000000000000062,\n",
       " '15': 1.0000000000000073,\n",
       " '16': 1.0000000000000018,\n",
       " '17': 0.9999999999999991,\n",
       " '18': 1.0000000000000047,\n",
       " '19': 0.999999999999988,\n",
       " '20': 0.9999999999999855,\n",
       " '21': 0.9999999999999843}"
      ]
     },
     "execution_count": 43,
     "metadata": {},
     "output_type": "execute_result"
    }
   ],
   "source": [
    "calc.solution_fraction_element['Cr']"
   ]
  },
  {
   "cell_type": "code",
   "execution_count": null,
   "metadata": {},
   "outputs": [],
   "source": []
  }
 ],
 "metadata": {
  "kernelspec": {
   "display_name": "base",
   "language": "python",
   "name": "python3"
  },
  "language_info": {
   "codemirror_mode": {
    "name": "ipython",
    "version": 3
   },
   "file_extension": ".py",
   "mimetype": "text/x-python",
   "name": "python",
   "nbconvert_exporter": "python",
   "pygments_lexer": "ipython3",
   "version": "3.11.6"
  }
 },
 "nbformat": 4,
 "nbformat_minor": 2
}
